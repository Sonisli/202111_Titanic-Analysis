{
 "cells": [
  {
   "cell_type": "markdown",
   "id": "7236252d",
   "metadata": {
    "papermill": {
     "duration": 0.030465,
     "end_time": "2021-11-21T13:51:53.840079",
     "exception": false,
     "start_time": "2021-11-21T13:51:53.809614",
     "status": "completed"
    },
    "tags": []
   },
   "source": [
    "# 20211115_Titanic_Analysis\n",
    "\n",
    "Lastest Updated: 20211121"
   ]
  },
  {
   "cell_type": "markdown",
   "id": "7592eeeb",
   "metadata": {
    "papermill": {
     "duration": 0.02776,
     "end_time": "2021-11-21T13:51:53.898932",
     "exception": false,
     "start_time": "2021-11-21T13:51:53.871172",
     "status": "completed"
    },
    "tags": []
   },
   "source": [
    "**Import package**"
   ]
  },
  {
   "cell_type": "code",
   "execution_count": 1,
   "id": "a14c46b6",
   "metadata": {
    "_cell_guid": "b1076dfc-b9ad-4769-8c92-a6c4dae69d19",
    "_uuid": "8f2839f25d086af736a60e9eeb907d3b93b6e0e5",
    "execution": {
     "iopub.execute_input": "2021-11-21T13:51:53.960365Z",
     "iopub.status.busy": "2021-11-21T13:51:53.959156Z",
     "iopub.status.idle": "2021-11-21T13:51:55.281618Z",
     "shell.execute_reply": "2021-11-21T13:51:55.282342Z",
     "shell.execute_reply.started": "2021-11-21T13:46:38.316761Z"
    },
    "papermill": {
     "duration": 1.355776,
     "end_time": "2021-11-21T13:51:55.282730",
     "exception": false,
     "start_time": "2021-11-21T13:51:53.926954",
     "status": "completed"
    },
    "tags": []
   },
   "outputs": [
    {
     "name": "stdout",
     "output_type": "stream",
     "text": [
      "/kaggle/input/titanic/train.csv\n",
      "/kaggle/input/titanic/test.csv\n",
      "/kaggle/input/titanic/gender_submission.csv\n"
     ]
    }
   ],
   "source": [
    "import numpy as np\n",
    "import pandas as pd \n",
    "import seaborn as sns\n",
    "import matplotlib.pyplot as plt\n",
    "from sklearn.preprocessing import StandardScaler\n",
    "from sklearn.linear_model import LogisticRegression\n",
    "from sklearn.linear_model import LinearRegression\n",
    "import os\n",
    "for dirname, _, filenames in os.walk('/kaggle/input'):\n",
    "    for filename in filenames:\n",
    "        print(os.path.join(dirname, filename))"
   ]
  },
  {
   "cell_type": "markdown",
   "id": "55639143",
   "metadata": {
    "papermill": {
     "duration": 0.028661,
     "end_time": "2021-11-21T13:51:55.346441",
     "exception": false,
     "start_time": "2021-11-21T13:51:55.317780",
     "status": "completed"
    },
    "tags": []
   },
   "source": [
    "## Data ##"
   ]
  },
  {
   "cell_type": "markdown",
   "id": "0f061907",
   "metadata": {
    "papermill": {
     "duration": 0.030213,
     "end_time": "2021-11-21T13:51:55.405753",
     "exception": false,
     "start_time": "2021-11-21T13:51:55.375540",
     "status": "completed"
    },
    "tags": []
   },
   "source": [
    "### Data selection\n",
    "\n",
    "The data chosen is provided by Kaggle: [Titanic - Machine Learning from Disaster](https://www.kaggle.com/c/titanic)\n",
    "\n",
    "The data has been split into two groups:\n",
    "- train.csv: The training set should be used to build your machine learning models. For the training set, we provide the outcome (also known as the “ground truth”) for each passenger. Your model will be based on “features” like passengers’ gender and class. You can also use feature engineering to create new features.\n",
    "- test.csv: The test set should be used to see how well your model performs on unseen data. For the test set, we do not provide the ground truth for each passenger. It is your job to predict these outcomes. For each passenger in the test set, use the model you trained to predict whether or not they survived the sinking of the Titanic."
   ]
  },
  {
   "cell_type": "markdown",
   "id": "1ad90ad3",
   "metadata": {
    "papermill": {
     "duration": 0.029158,
     "end_time": "2021-11-21T13:51:55.464037",
     "exception": false,
     "start_time": "2021-11-21T13:51:55.434879",
     "status": "completed"
    },
    "tags": []
   },
   "source": [
    "### Data Content ###\n",
    "\n",
    "- **PassengerId** - contains random values and has no effect on the survival of passenger.\n",
    "- **Survived** - contains survival result of passenger.\n",
    "    - 0 = No, 1 = Yes.\n",
    "- **Pclass** - a proxy for socio-economic status (SES) \n",
    "    - 1 = Upper, 2 = Middle, 3 = Lower.\n",
    "- **Name** - contains passenger name.\n",
    "- **Sex** - contrains passenger gender.\n",
    "- **Age** - age (in years) is fractional if less than 1.\n",
    "    - If the age is estimated, is it in the form of xx.5.\n",
    "- **Sibsp** - number of siblings/spouses aboard the Titanic.\n",
    "    - Sibling = brother, sister, stepbrother, stepsister;\n",
    "    - Spouse = husband, wife (mistresses and fiancés were ignored).\n",
    "- **Parch** - num of parents / children aboard the Titanic.\n",
    "    - Parent = mother, father;\n",
    "    - Child = daughter, son, stepdaughter, stepson;\n",
    "    - Some children travelled only with a nanny, therefore parch=0 for them.\n",
    "- **Ticket** - ticket number.\n",
    "- **Fare** - passenger fare.\n",
    "- **Cabin** - cabin number.\n",
    "- **Embarked** - port of embarkation.\n",
    "    - C = Cherbourg, Q = Queenstown, S = Southampton."
   ]
  },
  {
   "cell_type": "markdown",
   "id": "7574e7f6",
   "metadata": {
    "papermill": {
     "duration": 0.028057,
     "end_time": "2021-11-21T13:51:55.521741",
     "exception": false,
     "start_time": "2021-11-21T13:51:55.493684",
     "status": "completed"
    },
    "tags": []
   },
   "source": [
    "**Read data**"
   ]
  },
  {
   "cell_type": "code",
   "execution_count": 2,
   "id": "28d683bf",
   "metadata": {
    "execution": {
     "iopub.execute_input": "2021-11-21T13:51:55.582008Z",
     "iopub.status.busy": "2021-11-21T13:51:55.581005Z",
     "iopub.status.idle": "2021-11-21T13:51:55.626859Z",
     "shell.execute_reply": "2021-11-21T13:51:55.627403Z",
     "shell.execute_reply.started": "2021-11-21T13:46:38.332506Z"
    },
    "papermill": {
     "duration": 0.077723,
     "end_time": "2021-11-21T13:51:55.627571",
     "exception": false,
     "start_time": "2021-11-21T13:51:55.549848",
     "status": "completed"
    },
    "tags": []
   },
   "outputs": [
    {
     "data": {
      "text/plain": [
       "<bound method DataFrame.info of      PassengerId  Survived  Pclass  \\\n",
       "0              1         0       3   \n",
       "1              2         1       1   \n",
       "2              3         1       3   \n",
       "3              4         1       1   \n",
       "4              5         0       3   \n",
       "..           ...       ...     ...   \n",
       "886          887         0       2   \n",
       "887          888         1       1   \n",
       "888          889         0       3   \n",
       "889          890         1       1   \n",
       "890          891         0       3   \n",
       "\n",
       "                                                  Name     Sex   Age  SibSp  \\\n",
       "0                              Braund, Mr. Owen Harris    male  22.0      1   \n",
       "1    Cumings, Mrs. John Bradley (Florence Briggs Th...  female  38.0      1   \n",
       "2                               Heikkinen, Miss. Laina  female  26.0      0   \n",
       "3         Futrelle, Mrs. Jacques Heath (Lily May Peel)  female  35.0      1   \n",
       "4                             Allen, Mr. William Henry    male  35.0      0   \n",
       "..                                                 ...     ...   ...    ...   \n",
       "886                              Montvila, Rev. Juozas    male  27.0      0   \n",
       "887                       Graham, Miss. Margaret Edith  female  19.0      0   \n",
       "888           Johnston, Miss. Catherine Helen \"Carrie\"  female   NaN      1   \n",
       "889                              Behr, Mr. Karl Howell    male  26.0      0   \n",
       "890                                Dooley, Mr. Patrick    male  32.0      0   \n",
       "\n",
       "     Parch            Ticket     Fare Cabin Embarked  \n",
       "0        0         A/5 21171   7.2500   NaN        S  \n",
       "1        0          PC 17599  71.2833   C85        C  \n",
       "2        0  STON/O2. 3101282   7.9250   NaN        S  \n",
       "3        0            113803  53.1000  C123        S  \n",
       "4        0            373450   8.0500   NaN        S  \n",
       "..     ...               ...      ...   ...      ...  \n",
       "886      0            211536  13.0000   NaN        S  \n",
       "887      0            112053  30.0000   B42        S  \n",
       "888      2        W./C. 6607  23.4500   NaN        S  \n",
       "889      0            111369  30.0000  C148        C  \n",
       "890      0            370376   7.7500   NaN        Q  \n",
       "\n",
       "[891 rows x 12 columns]>"
      ]
     },
     "execution_count": 2,
     "metadata": {},
     "output_type": "execute_result"
    }
   ],
   "source": [
    "df_train = pd.read_csv(\"/kaggle/input/titanic/train.csv\")\n",
    "df_train.info"
   ]
  },
  {
   "cell_type": "code",
   "execution_count": 3,
   "id": "0e092162",
   "metadata": {
    "execution": {
     "iopub.execute_input": "2021-11-21T13:51:55.690257Z",
     "iopub.status.busy": "2021-11-21T13:51:55.689266Z",
     "iopub.status.idle": "2021-11-21T13:51:55.712267Z",
     "shell.execute_reply": "2021-11-21T13:51:55.712819Z",
     "shell.execute_reply.started": "2021-11-21T13:46:38.362525Z"
    },
    "papermill": {
     "duration": 0.05632,
     "end_time": "2021-11-21T13:51:55.712998",
     "exception": false,
     "start_time": "2021-11-21T13:51:55.656678",
     "status": "completed"
    },
    "tags": []
   },
   "outputs": [
    {
     "data": {
      "text/plain": [
       "<bound method DataFrame.info of      PassengerId  Pclass                                          Name  \\\n",
       "0            892       3                              Kelly, Mr. James   \n",
       "1            893       3              Wilkes, Mrs. James (Ellen Needs)   \n",
       "2            894       2                     Myles, Mr. Thomas Francis   \n",
       "3            895       3                              Wirz, Mr. Albert   \n",
       "4            896       3  Hirvonen, Mrs. Alexander (Helga E Lindqvist)   \n",
       "..           ...     ...                                           ...   \n",
       "413         1305       3                            Spector, Mr. Woolf   \n",
       "414         1306       1                  Oliva y Ocana, Dona. Fermina   \n",
       "415         1307       3                  Saether, Mr. Simon Sivertsen   \n",
       "416         1308       3                           Ware, Mr. Frederick   \n",
       "417         1309       3                      Peter, Master. Michael J   \n",
       "\n",
       "        Sex   Age  SibSp  Parch              Ticket      Fare Cabin Embarked  \n",
       "0      male  34.5      0      0              330911    7.8292   NaN        Q  \n",
       "1    female  47.0      1      0              363272    7.0000   NaN        S  \n",
       "2      male  62.0      0      0              240276    9.6875   NaN        Q  \n",
       "3      male  27.0      0      0              315154    8.6625   NaN        S  \n",
       "4    female  22.0      1      1             3101298   12.2875   NaN        S  \n",
       "..      ...   ...    ...    ...                 ...       ...   ...      ...  \n",
       "413    male   NaN      0      0           A.5. 3236    8.0500   NaN        S  \n",
       "414  female  39.0      0      0            PC 17758  108.9000  C105        C  \n",
       "415    male  38.5      0      0  SOTON/O.Q. 3101262    7.2500   NaN        S  \n",
       "416    male   NaN      0      0              359309    8.0500   NaN        S  \n",
       "417    male   NaN      1      1                2668   22.3583   NaN        C  \n",
       "\n",
       "[418 rows x 11 columns]>"
      ]
     },
     "execution_count": 3,
     "metadata": {},
     "output_type": "execute_result"
    }
   ],
   "source": [
    "df_test = pd.read_csv(\"/kaggle/input/titanic/test.csv\")\n",
    "df_test.info"
   ]
  },
  {
   "cell_type": "markdown",
   "id": "972bc7b1",
   "metadata": {
    "papermill": {
     "duration": 0.030235,
     "end_time": "2021-11-21T13:51:55.772974",
     "exception": false,
     "start_time": "2021-11-21T13:51:55.742739",
     "status": "completed"
    },
    "tags": []
   },
   "source": [
    "## Exploratory Data Analysis (EDA)"
   ]
  },
  {
   "cell_type": "code",
   "execution_count": 4,
   "id": "c4ce5369",
   "metadata": {
    "execution": {
     "iopub.execute_input": "2021-11-21T13:51:55.895085Z",
     "iopub.status.busy": "2021-11-21T13:51:55.894123Z",
     "iopub.status.idle": "2021-11-21T13:51:55.912269Z",
     "shell.execute_reply": "2021-11-21T13:51:55.912770Z",
     "shell.execute_reply.started": "2021-11-21T13:46:38.385634Z"
    },
    "papermill": {
     "duration": 0.051197,
     "end_time": "2021-11-21T13:51:55.912954",
     "exception": false,
     "start_time": "2021-11-21T13:51:55.861757",
     "status": "completed"
    },
    "tags": []
   },
   "outputs": [
    {
     "data": {
      "text/html": [
       "<div>\n",
       "<style scoped>\n",
       "    .dataframe tbody tr th:only-of-type {\n",
       "        vertical-align: middle;\n",
       "    }\n",
       "\n",
       "    .dataframe tbody tr th {\n",
       "        vertical-align: top;\n",
       "    }\n",
       "\n",
       "    .dataframe thead th {\n",
       "        text-align: right;\n",
       "    }\n",
       "</style>\n",
       "<table border=\"1\" class=\"dataframe\">\n",
       "  <thead>\n",
       "    <tr style=\"text-align: right;\">\n",
       "      <th></th>\n",
       "      <th>PassengerId</th>\n",
       "      <th>Survived</th>\n",
       "      <th>Pclass</th>\n",
       "      <th>Name</th>\n",
       "      <th>Sex</th>\n",
       "      <th>Age</th>\n",
       "      <th>SibSp</th>\n",
       "      <th>Parch</th>\n",
       "      <th>Ticket</th>\n",
       "      <th>Fare</th>\n",
       "      <th>Cabin</th>\n",
       "      <th>Embarked</th>\n",
       "    </tr>\n",
       "  </thead>\n",
       "  <tbody>\n",
       "    <tr>\n",
       "      <th>0</th>\n",
       "      <td>1</td>\n",
       "      <td>0</td>\n",
       "      <td>3</td>\n",
       "      <td>Braund, Mr. Owen Harris</td>\n",
       "      <td>male</td>\n",
       "      <td>22.0</td>\n",
       "      <td>1</td>\n",
       "      <td>0</td>\n",
       "      <td>A/5 21171</td>\n",
       "      <td>7.2500</td>\n",
       "      <td>NaN</td>\n",
       "      <td>S</td>\n",
       "    </tr>\n",
       "    <tr>\n",
       "      <th>1</th>\n",
       "      <td>2</td>\n",
       "      <td>1</td>\n",
       "      <td>1</td>\n",
       "      <td>Cumings, Mrs. John Bradley (Florence Briggs Th...</td>\n",
       "      <td>female</td>\n",
       "      <td>38.0</td>\n",
       "      <td>1</td>\n",
       "      <td>0</td>\n",
       "      <td>PC 17599</td>\n",
       "      <td>71.2833</td>\n",
       "      <td>C85</td>\n",
       "      <td>C</td>\n",
       "    </tr>\n",
       "    <tr>\n",
       "      <th>2</th>\n",
       "      <td>3</td>\n",
       "      <td>1</td>\n",
       "      <td>3</td>\n",
       "      <td>Heikkinen, Miss. Laina</td>\n",
       "      <td>female</td>\n",
       "      <td>26.0</td>\n",
       "      <td>0</td>\n",
       "      <td>0</td>\n",
       "      <td>STON/O2. 3101282</td>\n",
       "      <td>7.9250</td>\n",
       "      <td>NaN</td>\n",
       "      <td>S</td>\n",
       "    </tr>\n",
       "    <tr>\n",
       "      <th>3</th>\n",
       "      <td>4</td>\n",
       "      <td>1</td>\n",
       "      <td>1</td>\n",
       "      <td>Futrelle, Mrs. Jacques Heath (Lily May Peel)</td>\n",
       "      <td>female</td>\n",
       "      <td>35.0</td>\n",
       "      <td>1</td>\n",
       "      <td>0</td>\n",
       "      <td>113803</td>\n",
       "      <td>53.1000</td>\n",
       "      <td>C123</td>\n",
       "      <td>S</td>\n",
       "    </tr>\n",
       "    <tr>\n",
       "      <th>4</th>\n",
       "      <td>5</td>\n",
       "      <td>0</td>\n",
       "      <td>3</td>\n",
       "      <td>Allen, Mr. William Henry</td>\n",
       "      <td>male</td>\n",
       "      <td>35.0</td>\n",
       "      <td>0</td>\n",
       "      <td>0</td>\n",
       "      <td>373450</td>\n",
       "      <td>8.0500</td>\n",
       "      <td>NaN</td>\n",
       "      <td>S</td>\n",
       "    </tr>\n",
       "    <tr>\n",
       "      <th>5</th>\n",
       "      <td>6</td>\n",
       "      <td>0</td>\n",
       "      <td>3</td>\n",
       "      <td>Moran, Mr. James</td>\n",
       "      <td>male</td>\n",
       "      <td>NaN</td>\n",
       "      <td>0</td>\n",
       "      <td>0</td>\n",
       "      <td>330877</td>\n",
       "      <td>8.4583</td>\n",
       "      <td>NaN</td>\n",
       "      <td>Q</td>\n",
       "    </tr>\n",
       "    <tr>\n",
       "      <th>6</th>\n",
       "      <td>7</td>\n",
       "      <td>0</td>\n",
       "      <td>1</td>\n",
       "      <td>McCarthy, Mr. Timothy J</td>\n",
       "      <td>male</td>\n",
       "      <td>54.0</td>\n",
       "      <td>0</td>\n",
       "      <td>0</td>\n",
       "      <td>17463</td>\n",
       "      <td>51.8625</td>\n",
       "      <td>E46</td>\n",
       "      <td>S</td>\n",
       "    </tr>\n",
       "    <tr>\n",
       "      <th>7</th>\n",
       "      <td>8</td>\n",
       "      <td>0</td>\n",
       "      <td>3</td>\n",
       "      <td>Palsson, Master. Gosta Leonard</td>\n",
       "      <td>male</td>\n",
       "      <td>2.0</td>\n",
       "      <td>3</td>\n",
       "      <td>1</td>\n",
       "      <td>349909</td>\n",
       "      <td>21.0750</td>\n",
       "      <td>NaN</td>\n",
       "      <td>S</td>\n",
       "    </tr>\n",
       "    <tr>\n",
       "      <th>8</th>\n",
       "      <td>9</td>\n",
       "      <td>1</td>\n",
       "      <td>3</td>\n",
       "      <td>Johnson, Mrs. Oscar W (Elisabeth Vilhelmina Berg)</td>\n",
       "      <td>female</td>\n",
       "      <td>27.0</td>\n",
       "      <td>0</td>\n",
       "      <td>2</td>\n",
       "      <td>347742</td>\n",
       "      <td>11.1333</td>\n",
       "      <td>NaN</td>\n",
       "      <td>S</td>\n",
       "    </tr>\n",
       "    <tr>\n",
       "      <th>9</th>\n",
       "      <td>10</td>\n",
       "      <td>1</td>\n",
       "      <td>2</td>\n",
       "      <td>Nasser, Mrs. Nicholas (Adele Achem)</td>\n",
       "      <td>female</td>\n",
       "      <td>14.0</td>\n",
       "      <td>1</td>\n",
       "      <td>0</td>\n",
       "      <td>237736</td>\n",
       "      <td>30.0708</td>\n",
       "      <td>NaN</td>\n",
       "      <td>C</td>\n",
       "    </tr>\n",
       "  </tbody>\n",
       "</table>\n",
       "</div>"
      ],
      "text/plain": [
       "   PassengerId  Survived  Pclass  \\\n",
       "0            1         0       3   \n",
       "1            2         1       1   \n",
       "2            3         1       3   \n",
       "3            4         1       1   \n",
       "4            5         0       3   \n",
       "5            6         0       3   \n",
       "6            7         0       1   \n",
       "7            8         0       3   \n",
       "8            9         1       3   \n",
       "9           10         1       2   \n",
       "\n",
       "                                                Name     Sex   Age  SibSp  \\\n",
       "0                            Braund, Mr. Owen Harris    male  22.0      1   \n",
       "1  Cumings, Mrs. John Bradley (Florence Briggs Th...  female  38.0      1   \n",
       "2                             Heikkinen, Miss. Laina  female  26.0      0   \n",
       "3       Futrelle, Mrs. Jacques Heath (Lily May Peel)  female  35.0      1   \n",
       "4                           Allen, Mr. William Henry    male  35.0      0   \n",
       "5                                   Moran, Mr. James    male   NaN      0   \n",
       "6                            McCarthy, Mr. Timothy J    male  54.0      0   \n",
       "7                     Palsson, Master. Gosta Leonard    male   2.0      3   \n",
       "8  Johnson, Mrs. Oscar W (Elisabeth Vilhelmina Berg)  female  27.0      0   \n",
       "9                Nasser, Mrs. Nicholas (Adele Achem)  female  14.0      1   \n",
       "\n",
       "   Parch            Ticket     Fare Cabin Embarked  \n",
       "0      0         A/5 21171   7.2500   NaN        S  \n",
       "1      0          PC 17599  71.2833   C85        C  \n",
       "2      0  STON/O2. 3101282   7.9250   NaN        S  \n",
       "3      0            113803  53.1000  C123        S  \n",
       "4      0            373450   8.0500   NaN        S  \n",
       "5      0            330877   8.4583   NaN        Q  \n",
       "6      0             17463  51.8625   E46        S  \n",
       "7      1            349909  21.0750   NaN        S  \n",
       "8      2            347742  11.1333   NaN        S  \n",
       "9      0            237736  30.0708   NaN        C  "
      ]
     },
     "execution_count": 4,
     "metadata": {},
     "output_type": "execute_result"
    }
   ],
   "source": [
    "df_train.head(10)"
   ]
  },
  {
   "cell_type": "markdown",
   "id": "0d6f52c0",
   "metadata": {
    "papermill": {
     "duration": 0.030343,
     "end_time": "2021-11-21T13:51:55.975582",
     "exception": false,
     "start_time": "2021-11-21T13:51:55.945239",
     "status": "completed"
    },
    "tags": []
   },
   "source": [
    "### Categorical and Numberical Values\n",
    "- **Categorical Variable**: Survived, Sex, Pclass, Embarked, Cabin, Name, Ticket, Sibsp and Parch\n",
    "- **Numerical Variable**: Fare, age and passengerId"
   ]
  },
  {
   "cell_type": "code",
   "execution_count": 5,
   "id": "db3ca2b2",
   "metadata": {
    "execution": {
     "iopub.execute_input": "2021-11-21T13:51:56.060861Z",
     "iopub.status.busy": "2021-11-21T13:51:56.060007Z",
     "iopub.status.idle": "2021-11-21T13:51:56.066893Z",
     "shell.execute_reply": "2021-11-21T13:51:56.066041Z",
     "shell.execute_reply.started": "2021-11-21T13:46:38.406014Z"
    },
    "papermill": {
     "duration": 0.050802,
     "end_time": "2021-11-21T13:51:56.067112",
     "exception": false,
     "start_time": "2021-11-21T13:51:56.016310",
     "status": "completed"
    },
    "tags": []
   },
   "outputs": [],
   "source": [
    "categorical = ['Survived', 'Sex', 'Pclass', 'Embarked', 'Cabin', 'Name', 'Ticket', 'SibSp', 'Parch']\n",
    "numerical = ['Fare', 'Age', 'PassengerId']"
   ]
  },
  {
   "cell_type": "markdown",
   "id": "e0310c85",
   "metadata": {
    "papermill": {
     "duration": 0.03442,
     "end_time": "2021-11-21T13:51:56.139099",
     "exception": false,
     "start_time": "2021-11-21T13:51:56.104679",
     "status": "completed"
    },
    "tags": []
   },
   "source": [
    "### Data Types"
   ]
  },
  {
   "cell_type": "code",
   "execution_count": 6,
   "id": "4eaea2e0",
   "metadata": {
    "execution": {
     "iopub.execute_input": "2021-11-21T13:51:56.208815Z",
     "iopub.status.busy": "2021-11-21T13:51:56.208144Z",
     "iopub.status.idle": "2021-11-21T13:51:56.211459Z",
     "shell.execute_reply": "2021-11-21T13:51:56.211987Z",
     "shell.execute_reply.started": "2021-11-21T13:46:38.417488Z"
    },
    "papermill": {
     "duration": 0.039944,
     "end_time": "2021-11-21T13:51:56.212177",
     "exception": false,
     "start_time": "2021-11-21T13:51:56.172233",
     "status": "completed"
    },
    "tags": []
   },
   "outputs": [
    {
     "data": {
      "text/plain": [
       "PassengerId      int64\n",
       "Survived         int64\n",
       "Pclass           int64\n",
       "Name            object\n",
       "Sex             object\n",
       "Age            float64\n",
       "SibSp            int64\n",
       "Parch            int64\n",
       "Ticket          object\n",
       "Fare           float64\n",
       "Cabin           object\n",
       "Embarked        object\n",
       "dtype: object"
      ]
     },
     "execution_count": 6,
     "metadata": {},
     "output_type": "execute_result"
    }
   ],
   "source": [
    "df_train.dtypes"
   ]
  },
  {
   "cell_type": "markdown",
   "id": "80e1eff7",
   "metadata": {
    "papermill": {
     "duration": 0.030725,
     "end_time": "2021-11-21T13:51:56.273822",
     "exception": false,
     "start_time": "2021-11-21T13:51:56.243097",
     "status": "completed"
    },
    "tags": []
   },
   "source": [
    "### Missing values and Unique Values"
   ]
  },
  {
   "cell_type": "code",
   "execution_count": 7,
   "id": "7355a374",
   "metadata": {
    "execution": {
     "iopub.execute_input": "2021-11-21T13:51:56.339617Z",
     "iopub.status.busy": "2021-11-21T13:51:56.338940Z",
     "iopub.status.idle": "2021-11-21T13:51:56.344460Z",
     "shell.execute_reply": "2021-11-21T13:51:56.344972Z",
     "shell.execute_reply.started": "2021-11-21T13:46:38.433364Z"
    },
    "papermill": {
     "duration": 0.039747,
     "end_time": "2021-11-21T13:51:56.345147",
     "exception": false,
     "start_time": "2021-11-21T13:51:56.305400",
     "status": "completed"
    },
    "tags": []
   },
   "outputs": [],
   "source": [
    "def data_report_miss(df):\n",
    "    print(\"-----------Missing Value Statistics-----------\")\n",
    "    missing_value_len = df.isnull().any().sum()\n",
    "    if missing_value_len == 0:\n",
    "        print(\"No Missing Value\")\n",
    "    else:\n",
    "        print(\"Investigate Missing Value, Missing Value : \" + str(missing_value_len))\n",
    "        for columns in df.columns:\n",
    "            num_miss = df[columns].isna().sum()\n",
    "            print (columns,' has ',num_miss,' missing Values, which takes up ',\"{:.2f}%\".format(num_miss/len(df[columns])*100),'.')"
   ]
  },
  {
   "cell_type": "code",
   "execution_count": 8,
   "id": "fe5d4976",
   "metadata": {
    "execution": {
     "iopub.execute_input": "2021-11-21T13:51:56.413730Z",
     "iopub.status.busy": "2021-11-21T13:51:56.412847Z",
     "iopub.status.idle": "2021-11-21T13:51:56.450989Z",
     "shell.execute_reply": "2021-11-21T13:51:56.451493Z",
     "shell.execute_reply.started": "2021-11-21T13:46:38.449530Z"
    },
    "papermill": {
     "duration": 0.074245,
     "end_time": "2021-11-21T13:51:56.451689",
     "exception": false,
     "start_time": "2021-11-21T13:51:56.377444",
     "status": "completed"
    },
    "tags": []
   },
   "outputs": [
    {
     "name": "stdout",
     "output_type": "stream",
     "text": [
      "-----------Missing Value Statistics-----------\n",
      "Investigate Missing Value, Missing Value : 3\n",
      "PassengerId  has  0  missing Values, which takes up  0.00% .\n",
      "Survived  has  0  missing Values, which takes up  0.00% .\n",
      "Pclass  has  0  missing Values, which takes up  0.00% .\n",
      "Name  has  0  missing Values, which takes up  0.00% .\n",
      "Sex  has  0  missing Values, which takes up  0.00% .\n",
      "Age  has  177  missing Values, which takes up  19.87% .\n",
      "SibSp  has  0  missing Values, which takes up  0.00% .\n",
      "Parch  has  0  missing Values, which takes up  0.00% .\n",
      "Ticket  has  0  missing Values, which takes up  0.00% .\n",
      "Fare  has  0  missing Values, which takes up  0.00% .\n",
      "Cabin  has  687  missing Values, which takes up  77.10% .\n",
      "Embarked  has  2  missing Values, which takes up  0.22% .\n",
      "\n",
      " -----------Unique Value Statistics-----------\n",
      "0    549\n",
      "1    342\n",
      "Name: Survived, dtype: int64 \n",
      "\n",
      "male      577\n",
      "female    314\n",
      "Name: Sex, dtype: int64 \n",
      "\n",
      "3    491\n",
      "1    216\n",
      "2    184\n",
      "Name: Pclass, dtype: int64 \n",
      "\n",
      "S    644\n",
      "C    168\n",
      "Q     77\n",
      "Name: Embarked, dtype: int64 \n",
      "\n",
      "B96 B98        4\n",
      "G6             4\n",
      "C23 C25 C27    4\n",
      "C22 C26        3\n",
      "F33            3\n",
      "              ..\n",
      "E34            1\n",
      "C7             1\n",
      "C54            1\n",
      "E36            1\n",
      "C148           1\n",
      "Name: Cabin, Length: 147, dtype: int64 \n",
      "\n",
      "Braund, Mr. Owen Harris                     1\n",
      "Boulos, Mr. Hanna                           1\n",
      "Frolicher-Stehli, Mr. Maxmillian            1\n",
      "Gilinski, Mr. Eliezer                       1\n",
      "Murdlin, Mr. Joseph                         1\n",
      "                                           ..\n",
      "Kelly, Miss. Anna Katherine \"Annie Kate\"    1\n",
      "McCoy, Mr. Bernard                          1\n",
      "Johnson, Mr. William Cahoone Jr             1\n",
      "Keane, Miss. Nora A                         1\n",
      "Dooley, Mr. Patrick                         1\n",
      "Name: Name, Length: 891, dtype: int64 \n",
      "\n",
      "347082      7\n",
      "CA. 2343    7\n",
      "1601        7\n",
      "3101295     6\n",
      "CA 2144     6\n",
      "           ..\n",
      "9234        1\n",
      "19988       1\n",
      "2693        1\n",
      "PC 17612    1\n",
      "370376      1\n",
      "Name: Ticket, Length: 681, dtype: int64 \n",
      "\n",
      "0    608\n",
      "1    209\n",
      "2     28\n",
      "4     18\n",
      "3     16\n",
      "8      7\n",
      "5      5\n",
      "Name: SibSp, dtype: int64 \n",
      "\n",
      "0    678\n",
      "1    118\n",
      "2     80\n",
      "5      5\n",
      "3      5\n",
      "4      4\n",
      "6      1\n",
      "Name: Parch, dtype: int64 \n",
      "\n"
     ]
    }
   ],
   "source": [
    "data_report_miss(df_train)\n",
    "print('\\n -----------Unique Value Statistics-----------')\n",
    "for col in categorical:\n",
    "    print (df_train[col].value_counts(),'\\n')"
   ]
  },
  {
   "cell_type": "markdown",
   "id": "3f645cf3",
   "metadata": {
    "papermill": {
     "duration": 0.030839,
     "end_time": "2021-11-21T13:51:56.514271",
     "exception": false,
     "start_time": "2021-11-21T13:51:56.483432",
     "status": "completed"
    },
    "tags": []
   },
   "source": [
    "### Distribution Plots"
   ]
  },
  {
   "cell_type": "code",
   "execution_count": 9,
   "id": "1ae94a17",
   "metadata": {
    "execution": {
     "iopub.execute_input": "2021-11-21T13:51:56.600377Z",
     "iopub.status.busy": "2021-11-21T13:51:56.581564Z",
     "iopub.status.idle": "2021-11-21T13:51:57.114780Z",
     "shell.execute_reply": "2021-11-21T13:51:57.114098Z",
     "shell.execute_reply.started": "2021-11-21T13:46:38.494236Z"
    },
    "papermill": {
     "duration": 0.569424,
     "end_time": "2021-11-21T13:51:57.114921",
     "exception": false,
     "start_time": "2021-11-21T13:51:56.545497",
     "status": "completed"
    },
    "tags": []
   },
   "outputs": [
    {
     "data": {
      "text/plain": [
       "<AxesSubplot:xlabel='PassengerId'>"
      ]
     },
     "execution_count": 9,
     "metadata": {},
     "output_type": "execute_result"
    },
    {
     "data": {
      "image/png": "[encoded data removed]",
      "text/plain": [
       "<Figure size 1728x216 with 3 Axes>"
      ]
     },
     "metadata": {
      "needs_background": "light"
     },
     "output_type": "display_data"
    }
   ],
   "source": [
    "fig, axarr = plt.subplots(1, 3, figsize=(24, 3))\n",
    "fig.tight_layout(pad=2.0)\n",
    "sns.boxplot(x = numerical[0], data = df_train, ax = axarr[0])\n",
    "sns.boxplot(x = numerical[1], data = df_train, ax = axarr[1])\n",
    "sns.boxplot(x = numerical[2], data = df_train, ax = axarr[2])"
   ]
  },
  {
   "cell_type": "code",
   "execution_count": 10,
   "id": "72de9d1e",
   "metadata": {
    "execution": {
     "iopub.execute_input": "2021-11-21T13:51:57.182463Z",
     "iopub.status.busy": "2021-11-21T13:51:57.181691Z",
     "iopub.status.idle": "2021-11-21T13:52:32.886917Z",
     "shell.execute_reply": "2021-11-21T13:52:32.887417Z",
     "shell.execute_reply.started": "2021-11-21T13:46:38.992082Z"
    },
    "papermill": {
     "duration": 35.741214,
     "end_time": "2021-11-21T13:52:32.887588",
     "exception": false,
     "start_time": "2021-11-21T13:51:57.146374",
     "status": "completed"
    },
    "tags": []
   },
   "outputs": [
    {
     "data": {
      "text/plain": [
       "<AxesSubplot:xlabel='Parch', ylabel='Count'>"
      ]
     },
     "execution_count": 10,
     "metadata": {},
     "output_type": "execute_result"
    },
    {
     "data": {
      "image/png": "[encoded data removed]",
      "text/plain": [
       "<Figure size 1728x648 with 9 Axes>"
      ]
     },
     "metadata": {
      "needs_background": "light"
     },
     "output_type": "display_data"
    }
   ],
   "source": [
    "fig, axarr = plt.subplots(3, 3, figsize=(24, 9))\n",
    "fig.tight_layout(pad=2.0)\n",
    "sns.histplot(x = categorical[0], kde=True, data = df_train, ax = axarr[0][0])\n",
    "sns.histplot(x = categorical[1], kde=True, data = df_train, ax = axarr[0][1])\n",
    "sns.histplot(x = categorical[2], kde=True, data = df_train, ax = axarr[0][2])\n",
    "sns.histplot(x = categorical[3], kde=True, data = df_train, ax = axarr[1][0])\n",
    "sns.histplot(x = categorical[4], kde=True, data = df_train, ax = axarr[1][1])\n",
    "sns.histplot(x = categorical[5], kde=True, data = df_train, ax = axarr[1][2])\n",
    "sns.histplot(x = categorical[6], kde=True, data = df_train, ax = axarr[2][0])\n",
    "sns.histplot(x = categorical[7], kde=True, data = df_train, ax = axarr[2][1])\n",
    "sns.histplot(x = categorical[8], kde=True, data = df_train, ax = axarr[2][2])"
   ]
  },
  {
   "cell_type": "markdown",
   "id": "e979479b",
   "metadata": {
    "papermill": {
     "duration": 0.036759,
     "end_time": "2021-11-21T13:52:32.959687",
     "exception": false,
     "start_time": "2021-11-21T13:52:32.922928",
     "status": "completed"
    },
    "tags": []
   },
   "source": [
    "### First-Stage Data Inspection"
   ]
  },
  {
   "cell_type": "markdown",
   "id": "aca5fad5",
   "metadata": {
    "papermill": {
     "duration": 0.034469,
     "end_time": "2021-11-21T13:52:33.030536",
     "exception": false,
     "start_time": "2021-11-21T13:52:32.996067",
     "status": "completed"
    },
    "tags": []
   },
   "source": [
    "**Ticket**:\n",
    "- Some Ticket values have character prefixes, and could not be considered in numerical values.\n",
    "- There exists duplicates for some tickets.\n",
    "\n",
    "**Name**:\n",
    "- There exists no duplication in name value.\n",
    "- Names usually contain titles which could be handled.\n",
    "- Name needs to be set to string type before handling.\n",
    "\n",
    "**Cabin**:\n",
    "- Cabin has the most missing values, which take up about 77.10% of the whole values in the column.\n",
    "- It is necessary to understand whether the missing values are random.\n",
    "- The plot also shows that the passengers with cabin numbers are more likely to be in separate rooms.\n",
    "\n",
    "**Pclass**:\n",
    "- There are more passengers in lower class than in middle or higher class.\n",
    "\n",
    "**Sex**:\n",
    "- There are more male passagers than female passagers.\n",
    "\n",
    "**Parch/SibSp**:\n",
    "- Most passengers do not bring their families with them.\n",
    "\n",
    "**Age**:\n",
    "- Age contains values with decimal places and there exists 19.87% missing values in the age column.\n",
    "- Age feature could be grouped into bins for further analysis.\n",
    "\n",
    "**Fare**:\n",
    "- The plot shows passenger fare distribution has positive skewness, which means most passengers pay low fare.\n",
    "- Fare could be influenced by class and family size, thus needing to be evaluated before putting into model.\n",
    "\n",
    "**Embarked**:\n",
    "- Only two passengers do not have embarked value.\n",
    "\n",
    "**Survived**:\n",
    "- Less passengers survived in the disaster."
   ]
  },
  {
   "cell_type": "markdown",
   "id": "f4dc783a",
   "metadata": {
    "papermill": {
     "duration": 0.034273,
     "end_time": "2021-11-21T13:52:33.099260",
     "exception": false,
     "start_time": "2021-11-21T13:52:33.064987",
     "status": "completed"
    },
    "tags": []
   },
   "source": [
    "### EDA: Cabin"
   ]
  },
  {
   "cell_type": "code",
   "execution_count": 11,
   "id": "04a702c4",
   "metadata": {
    "execution": {
     "iopub.execute_input": "2021-11-21T13:52:33.188250Z",
     "iopub.status.busy": "2021-11-21T13:52:33.187267Z",
     "iopub.status.idle": "2021-11-21T13:52:33.191522Z",
     "shell.execute_reply": "2021-11-21T13:52:33.191016Z",
     "shell.execute_reply.started": "2021-11-21T13:47:16.885267Z"
    },
    "papermill": {
     "duration": 0.057147,
     "end_time": "2021-11-21T13:52:33.191670",
     "exception": false,
     "start_time": "2021-11-21T13:52:33.134523",
     "status": "completed"
    },
    "tags": []
   },
   "outputs": [
    {
     "data": {
      "text/html": [
       "<div>\n",
       "<style scoped>\n",
       "    .dataframe tbody tr th:only-of-type {\n",
       "        vertical-align: middle;\n",
       "    }\n",
       "\n",
       "    .dataframe tbody tr th {\n",
       "        vertical-align: top;\n",
       "    }\n",
       "\n",
       "    .dataframe thead th {\n",
       "        text-align: right;\n",
       "    }\n",
       "</style>\n",
       "<table border=\"1\" class=\"dataframe\">\n",
       "  <thead>\n",
       "    <tr style=\"text-align: right;\">\n",
       "      <th></th>\n",
       "      <th>PassengerId</th>\n",
       "      <th>Survived</th>\n",
       "      <th>Pclass</th>\n",
       "      <th>Name</th>\n",
       "      <th>Sex</th>\n",
       "      <th>Age</th>\n",
       "      <th>SibSp</th>\n",
       "      <th>Parch</th>\n",
       "      <th>Ticket</th>\n",
       "      <th>Fare</th>\n",
       "      <th>Cabin</th>\n",
       "      <th>Embarked</th>\n",
       "      <th>ifCabin</th>\n",
       "    </tr>\n",
       "  </thead>\n",
       "  <tbody>\n",
       "    <tr>\n",
       "      <th>0</th>\n",
       "      <td>1</td>\n",
       "      <td>0</td>\n",
       "      <td>3</td>\n",
       "      <td>Braund, Mr. Owen Harris</td>\n",
       "      <td>male</td>\n",
       "      <td>22.0</td>\n",
       "      <td>1</td>\n",
       "      <td>0</td>\n",
       "      <td>A/5 21171</td>\n",
       "      <td>7.2500</td>\n",
       "      <td>NaN</td>\n",
       "      <td>S</td>\n",
       "      <td>0</td>\n",
       "    </tr>\n",
       "    <tr>\n",
       "      <th>1</th>\n",
       "      <td>2</td>\n",
       "      <td>1</td>\n",
       "      <td>1</td>\n",
       "      <td>Cumings, Mrs. John Bradley (Florence Briggs Th...</td>\n",
       "      <td>female</td>\n",
       "      <td>38.0</td>\n",
       "      <td>1</td>\n",
       "      <td>0</td>\n",
       "      <td>PC 17599</td>\n",
       "      <td>71.2833</td>\n",
       "      <td>C85</td>\n",
       "      <td>C</td>\n",
       "      <td>1</td>\n",
       "    </tr>\n",
       "    <tr>\n",
       "      <th>2</th>\n",
       "      <td>3</td>\n",
       "      <td>1</td>\n",
       "      <td>3</td>\n",
       "      <td>Heikkinen, Miss. Laina</td>\n",
       "      <td>female</td>\n",
       "      <td>26.0</td>\n",
       "      <td>0</td>\n",
       "      <td>0</td>\n",
       "      <td>STON/O2. 3101282</td>\n",
       "      <td>7.9250</td>\n",
       "      <td>NaN</td>\n",
       "      <td>S</td>\n",
       "      <td>0</td>\n",
       "    </tr>\n",
       "    <tr>\n",
       "      <th>3</th>\n",
       "      <td>4</td>\n",
       "      <td>1</td>\n",
       "      <td>1</td>\n",
       "      <td>Futrelle, Mrs. Jacques Heath (Lily May Peel)</td>\n",
       "      <td>female</td>\n",
       "      <td>35.0</td>\n",
       "      <td>1</td>\n",
       "      <td>0</td>\n",
       "      <td>113803</td>\n",
       "      <td>53.1000</td>\n",
       "      <td>C123</td>\n",
       "      <td>S</td>\n",
       "      <td>1</td>\n",
       "    </tr>\n",
       "    <tr>\n",
       "      <th>4</th>\n",
       "      <td>5</td>\n",
       "      <td>0</td>\n",
       "      <td>3</td>\n",
       "      <td>Allen, Mr. William Henry</td>\n",
       "      <td>male</td>\n",
       "      <td>35.0</td>\n",
       "      <td>0</td>\n",
       "      <td>0</td>\n",
       "      <td>373450</td>\n",
       "      <td>8.0500</td>\n",
       "      <td>NaN</td>\n",
       "      <td>S</td>\n",
       "      <td>0</td>\n",
       "    </tr>\n",
       "  </tbody>\n",
       "</table>\n",
       "</div>"
      ],
      "text/plain": [
       "   PassengerId  Survived  Pclass  \\\n",
       "0            1         0       3   \n",
       "1            2         1       1   \n",
       "2            3         1       3   \n",
       "3            4         1       1   \n",
       "4            5         0       3   \n",
       "\n",
       "                                                Name     Sex   Age  SibSp  \\\n",
       "0                            Braund, Mr. Owen Harris    male  22.0      1   \n",
       "1  Cumings, Mrs. John Bradley (Florence Briggs Th...  female  38.0      1   \n",
       "2                             Heikkinen, Miss. Laina  female  26.0      0   \n",
       "3       Futrelle, Mrs. Jacques Heath (Lily May Peel)  female  35.0      1   \n",
       "4                           Allen, Mr. William Henry    male  35.0      0   \n",
       "\n",
       "   Parch            Ticket     Fare Cabin Embarked  ifCabin  \n",
       "0      0         A/5 21171   7.2500   NaN        S        0  \n",
       "1      0          PC 17599  71.2833   C85        C        1  \n",
       "2      0  STON/O2. 3101282   7.9250   NaN        S        0  \n",
       "3      0            113803  53.1000  C123        S        1  \n",
       "4      0            373450   8.0500   NaN        S        0  "
      ]
     },
     "execution_count": 11,
     "metadata": {},
     "output_type": "execute_result"
    }
   ],
   "source": [
    "df_train['ifCabin'] = df_train['Cabin'].isnull().replace([True, False],[0,1])\n",
    "df_train.head()"
   ]
  },
  {
   "cell_type": "code",
   "execution_count": 12,
   "id": "d30c733f",
   "metadata": {
    "execution": {
     "iopub.execute_input": "2021-11-21T13:52:33.271270Z",
     "iopub.status.busy": "2021-11-21T13:52:33.270619Z",
     "iopub.status.idle": "2021-11-21T13:52:34.501830Z",
     "shell.execute_reply": "2021-11-21T13:52:34.502343Z",
     "shell.execute_reply.started": "2021-11-21T13:47:16.905988Z"
    },
    "papermill": {
     "duration": 1.275679,
     "end_time": "2021-11-21T13:52:34.502518",
     "exception": false,
     "start_time": "2021-11-21T13:52:33.226839",
     "status": "completed"
    },
    "tags": []
   },
   "outputs": [
    {
     "data": {
      "text/plain": [
       "<AxesSubplot:xlabel='ifCabin', ylabel='Age'>"
      ]
     },
     "execution_count": 12,
     "metadata": {},
     "output_type": "execute_result"
    },
    {
     "data": {
      "image/png": "[encoded data removed]",
      "text/plain": [
       "<Figure size 1728x648 with 6 Axes>"
      ]
     },
     "metadata": {
      "needs_background": "light"
     },
     "output_type": "display_data"
    }
   ],
   "source": [
    "fig, axarr = plt.subplots(2, 3, figsize=(24, 9))\n",
    "fig.tight_layout(pad=2.0)\n",
    "sns.countplot(x = 'ifCabin', hue = 'Sex', data = df_train, ax = axarr[0][0])\n",
    "sns.countplot(x = 'ifCabin', hue = 'Pclass', data = df_train, ax = axarr[0][1])\n",
    "sns.countplot(x = 'ifCabin', hue = 'Embarked', data = df_train, ax = axarr[0][2])\n",
    "sns.countplot(x = 'ifCabin', hue = 'SibSp', data = df_train, ax = axarr[1][0])\n",
    "sns.countplot(x = 'ifCabin', hue = 'Parch', data = df_train, ax = axarr[1][1])\n",
    "sns.pointplot(x = 'ifCabin', y = 'Age', data = df_train, ax = axarr[1][2])"
   ]
  },
  {
   "cell_type": "markdown",
   "id": "d923b938",
   "metadata": {
    "papermill": {
     "duration": 0.037791,
     "end_time": "2021-11-21T13:52:34.578020",
     "exception": false,
     "start_time": "2021-11-21T13:52:34.540229",
     "status": "completed"
    },
    "tags": []
   },
   "source": [
    "- SibSp, Parch, Embarked and Sex does not show clear relation with Cabin validity.\n",
    "- It seems that passengers with higher Age have a Cabin.\n",
    "- Most passengers who have cabins are in higher class."
   ]
  },
  {
   "cell_type": "code",
   "execution_count": 13,
   "id": "f7747ff1",
   "metadata": {
    "execution": {
     "iopub.execute_input": "2021-11-21T13:52:34.659542Z",
     "iopub.status.busy": "2021-11-21T13:52:34.658438Z",
     "iopub.status.idle": "2021-11-21T13:52:34.904177Z",
     "shell.execute_reply": "2021-11-21T13:52:34.904760Z",
     "shell.execute_reply.started": "2021-11-21T13:47:18.060221Z"
    },
    "papermill": {
     "duration": 0.288149,
     "end_time": "2021-11-21T13:52:34.904973",
     "exception": false,
     "start_time": "2021-11-21T13:52:34.616824",
     "status": "completed"
    },
    "tags": []
   },
   "outputs": [
    {
     "data": {
      "text/plain": [
       "<AxesSubplot:xlabel='ifCabin', ylabel='Survived'>"
      ]
     },
     "execution_count": 13,
     "metadata": {},
     "output_type": "execute_result"
    },
    {
     "data": {
      "image/png": "[encoded data removed]",
      "text/plain": [
       "<Figure size 432x288 with 1 Axes>"
      ]
     },
     "metadata": {
      "needs_background": "light"
     },
     "output_type": "display_data"
    }
   ],
   "source": [
    "sns.barplot(x = 'ifCabin',y = 'Survived',data = df_train)"
   ]
  },
  {
   "cell_type": "markdown",
   "id": "3c5be35b",
   "metadata": {
    "papermill": {
     "duration": 0.038154,
     "end_time": "2021-11-21T13:52:34.983161",
     "exception": false,
     "start_time": "2021-11-21T13:52:34.945007",
     "status": "completed"
    },
    "tags": []
   },
   "source": [
    "- Passengers who have cabinhave higher survival rate."
   ]
  },
  {
   "cell_type": "markdown",
   "id": "11410fe4",
   "metadata": {
    "papermill": {
     "duration": 0.037663,
     "end_time": "2021-11-21T13:52:35.060309",
     "exception": false,
     "start_time": "2021-11-21T13:52:35.022646",
     "status": "completed"
    },
    "tags": []
   },
   "source": [
    "### EDA: Sex"
   ]
  },
  {
   "cell_type": "code",
   "execution_count": 14,
   "id": "eb76cc6f",
   "metadata": {
    "execution": {
     "iopub.execute_input": "2021-11-21T13:52:35.146829Z",
     "iopub.status.busy": "2021-11-21T13:52:35.146014Z",
     "iopub.status.idle": "2021-11-21T13:52:35.386831Z",
     "shell.execute_reply": "2021-11-21T13:52:35.387322Z",
     "shell.execute_reply.started": "2021-11-21T13:47:18.256788Z"
    },
    "papermill": {
     "duration": 0.28855,
     "end_time": "2021-11-21T13:52:35.387496",
     "exception": false,
     "start_time": "2021-11-21T13:52:35.098946",
     "status": "completed"
    },
    "tags": []
   },
   "outputs": [
    {
     "data": {
      "text/plain": [
       "<AxesSubplot:xlabel='Sex', ylabel='Survived'>"
      ]
     },
     "execution_count": 14,
     "metadata": {},
     "output_type": "execute_result"
    },
    {
     "data": {
      "image/png": "[encoded data removed]",
      "text/plain": [
       "<Figure size 432x288 with 1 Axes>"
      ]
     },
     "metadata": {
      "needs_background": "light"
     },
     "output_type": "display_data"
    }
   ],
   "source": [
    "sns.barplot(x=\"Sex\",y=\"Survived\",data=df_train)"
   ]
  },
  {
   "cell_type": "markdown",
   "id": "f5dc4b3a",
   "metadata": {
    "papermill": {
     "duration": 0.039703,
     "end_time": "2021-11-21T13:52:35.468895",
     "exception": false,
     "start_time": "2021-11-21T13:52:35.429192",
     "status": "completed"
    },
    "tags": []
   },
   "source": [
    "- Female passengers have higher survival rate."
   ]
  },
  {
   "cell_type": "markdown",
   "id": "19154e06",
   "metadata": {
    "papermill": {
     "duration": 0.039994,
     "end_time": "2021-11-21T13:52:35.547970",
     "exception": false,
     "start_time": "2021-11-21T13:52:35.507976",
     "status": "completed"
    },
    "tags": []
   },
   "source": [
    "### EDA: Title"
   ]
  },
  {
   "cell_type": "code",
   "execution_count": 15,
   "id": "de5cbd93",
   "metadata": {
    "execution": {
     "iopub.execute_input": "2021-11-21T13:52:35.635935Z",
     "iopub.status.busy": "2021-11-21T13:52:35.634811Z",
     "iopub.status.idle": "2021-11-21T13:52:35.637888Z",
     "shell.execute_reply": "2021-11-21T13:52:35.637354Z",
     "shell.execute_reply.started": "2021-11-21T13:47:18.449781Z"
    },
    "papermill": {
     "duration": 0.049422,
     "end_time": "2021-11-21T13:52:35.638030",
     "exception": false,
     "start_time": "2021-11-21T13:52:35.588608",
     "status": "completed"
    },
    "tags": []
   },
   "outputs": [],
   "source": [
    "def substrings_in_string(big_string, substrings):\n",
    "    for substring in substrings:\n",
    "        if substring in big_string:\n",
    "            return substring\n",
    "    print (big_string)\n",
    "    return np.nan"
   ]
  },
  {
   "cell_type": "code",
   "execution_count": 16,
   "id": "ca91cdb9",
   "metadata": {
    "execution": {
     "iopub.execute_input": "2021-11-21T13:52:35.727558Z",
     "iopub.status.busy": "2021-11-21T13:52:35.726809Z",
     "iopub.status.idle": "2021-11-21T13:52:35.730505Z",
     "shell.execute_reply": "2021-11-21T13:52:35.729946Z",
     "shell.execute_reply.started": "2021-11-21T13:47:18.458280Z"
    },
    "papermill": {
     "duration": 0.051753,
     "end_time": "2021-11-21T13:52:35.730655",
     "exception": false,
     "start_time": "2021-11-21T13:52:35.678902",
     "status": "completed"
    },
    "tags": []
   },
   "outputs": [],
   "source": [
    "def replace_titles(x):\n",
    "    title=x['Title']\n",
    "    if title in ['Don', 'Major', 'Capt', 'Jonkheer', 'Rev', 'Col']:\n",
    "        return 'Mr'\n",
    "    elif title in ['Countess', 'Mme']:\n",
    "        return 'Mrs'\n",
    "    elif title in ['Mlle', 'Ms']:\n",
    "        return 'Miss'\n",
    "    elif title =='Dr':\n",
    "        if x['Sex']=='Male':\n",
    "            return 'Mr'\n",
    "        else:\n",
    "            return 'Mrs'\n",
    "    else:\n",
    "        return title"
   ]
  },
  {
   "cell_type": "code",
   "execution_count": 17,
   "id": "a4a99d68",
   "metadata": {
    "execution": {
     "iopub.execute_input": "2021-11-21T13:52:35.822555Z",
     "iopub.status.busy": "2021-11-21T13:52:35.817436Z",
     "iopub.status.idle": "2021-11-21T13:52:35.849510Z",
     "shell.execute_reply": "2021-11-21T13:52:35.850095Z",
     "shell.execute_reply.started": "2021-11-21T13:47:18.472243Z"
    },
    "papermill": {
     "duration": 0.079715,
     "end_time": "2021-11-21T13:52:35.850297",
     "exception": false,
     "start_time": "2021-11-21T13:52:35.770582",
     "status": "completed"
    },
    "tags": []
   },
   "outputs": [
    {
     "data": {
      "text/html": [
       "<div>\n",
       "<style scoped>\n",
       "    .dataframe tbody tr th:only-of-type {\n",
       "        vertical-align: middle;\n",
       "    }\n",
       "\n",
       "    .dataframe tbody tr th {\n",
       "        vertical-align: top;\n",
       "    }\n",
       "\n",
       "    .dataframe thead th {\n",
       "        text-align: right;\n",
       "    }\n",
       "</style>\n",
       "<table border=\"1\" class=\"dataframe\">\n",
       "  <thead>\n",
       "    <tr style=\"text-align: right;\">\n",
       "      <th></th>\n",
       "      <th>PassengerId</th>\n",
       "      <th>Survived</th>\n",
       "      <th>Pclass</th>\n",
       "      <th>Name</th>\n",
       "      <th>Sex</th>\n",
       "      <th>Age</th>\n",
       "      <th>SibSp</th>\n",
       "      <th>Parch</th>\n",
       "      <th>Ticket</th>\n",
       "      <th>Fare</th>\n",
       "      <th>Cabin</th>\n",
       "      <th>Embarked</th>\n",
       "      <th>ifCabin</th>\n",
       "      <th>Title</th>\n",
       "    </tr>\n",
       "  </thead>\n",
       "  <tbody>\n",
       "    <tr>\n",
       "      <th>0</th>\n",
       "      <td>1</td>\n",
       "      <td>0</td>\n",
       "      <td>3</td>\n",
       "      <td>Braund, Mr. Owen Harris</td>\n",
       "      <td>male</td>\n",
       "      <td>22.0</td>\n",
       "      <td>1</td>\n",
       "      <td>0</td>\n",
       "      <td>A/5 21171</td>\n",
       "      <td>7.2500</td>\n",
       "      <td>NaN</td>\n",
       "      <td>S</td>\n",
       "      <td>0</td>\n",
       "      <td>Mr</td>\n",
       "    </tr>\n",
       "    <tr>\n",
       "      <th>1</th>\n",
       "      <td>2</td>\n",
       "      <td>1</td>\n",
       "      <td>1</td>\n",
       "      <td>Cumings, Mrs. John Bradley (Florence Briggs Th...</td>\n",
       "      <td>female</td>\n",
       "      <td>38.0</td>\n",
       "      <td>1</td>\n",
       "      <td>0</td>\n",
       "      <td>PC 17599</td>\n",
       "      <td>71.2833</td>\n",
       "      <td>C85</td>\n",
       "      <td>C</td>\n",
       "      <td>1</td>\n",
       "      <td>Mrs</td>\n",
       "    </tr>\n",
       "    <tr>\n",
       "      <th>2</th>\n",
       "      <td>3</td>\n",
       "      <td>1</td>\n",
       "      <td>3</td>\n",
       "      <td>Heikkinen, Miss. Laina</td>\n",
       "      <td>female</td>\n",
       "      <td>26.0</td>\n",
       "      <td>0</td>\n",
       "      <td>0</td>\n",
       "      <td>STON/O2. 3101282</td>\n",
       "      <td>7.9250</td>\n",
       "      <td>NaN</td>\n",
       "      <td>S</td>\n",
       "      <td>0</td>\n",
       "      <td>Miss</td>\n",
       "    </tr>\n",
       "    <tr>\n",
       "      <th>3</th>\n",
       "      <td>4</td>\n",
       "      <td>1</td>\n",
       "      <td>1</td>\n",
       "      <td>Futrelle, Mrs. Jacques Heath (Lily May Peel)</td>\n",
       "      <td>female</td>\n",
       "      <td>35.0</td>\n",
       "      <td>1</td>\n",
       "      <td>0</td>\n",
       "      <td>113803</td>\n",
       "      <td>53.1000</td>\n",
       "      <td>C123</td>\n",
       "      <td>S</td>\n",
       "      <td>1</td>\n",
       "      <td>Mrs</td>\n",
       "    </tr>\n",
       "    <tr>\n",
       "      <th>4</th>\n",
       "      <td>5</td>\n",
       "      <td>0</td>\n",
       "      <td>3</td>\n",
       "      <td>Allen, Mr. William Henry</td>\n",
       "      <td>male</td>\n",
       "      <td>35.0</td>\n",
       "      <td>0</td>\n",
       "      <td>0</td>\n",
       "      <td>373450</td>\n",
       "      <td>8.0500</td>\n",
       "      <td>NaN</td>\n",
       "      <td>S</td>\n",
       "      <td>0</td>\n",
       "      <td>Mr</td>\n",
       "    </tr>\n",
       "  </tbody>\n",
       "</table>\n",
       "</div>"
      ],
      "text/plain": [
       "   PassengerId  Survived  Pclass  \\\n",
       "0            1         0       3   \n",
       "1            2         1       1   \n",
       "2            3         1       3   \n",
       "3            4         1       1   \n",
       "4            5         0       3   \n",
       "\n",
       "                                                Name     Sex   Age  SibSp  \\\n",
       "0                            Braund, Mr. Owen Harris    male  22.0      1   \n",
       "1  Cumings, Mrs. John Bradley (Florence Briggs Th...  female  38.0      1   \n",
       "2                             Heikkinen, Miss. Laina  female  26.0      0   \n",
       "3       Futrelle, Mrs. Jacques Heath (Lily May Peel)  female  35.0      1   \n",
       "4                           Allen, Mr. William Henry    male  35.0      0   \n",
       "\n",
       "   Parch            Ticket     Fare Cabin Embarked  ifCabin Title  \n",
       "0      0         A/5 21171   7.2500   NaN        S        0    Mr  \n",
       "1      0          PC 17599  71.2833   C85        C        1   Mrs  \n",
       "2      0  STON/O2. 3101282   7.9250   NaN        S        0  Miss  \n",
       "3      0            113803  53.1000  C123        S        1   Mrs  \n",
       "4      0            373450   8.0500   NaN        S        0    Mr  "
      ]
     },
     "execution_count": 17,
     "metadata": {},
     "output_type": "execute_result"
    }
   ],
   "source": [
    "title_list = ['Mrs', 'Mr', 'Master', 'Miss', 'Major', 'Rev','Dr', 'Ms', 'Mlle','Col', 'Capt', 'Mme', 'Countess','Don', 'Jonkheer']\n",
    "df_train['Title'] = df_train['Name'].map(lambda x: substrings_in_string(x, title_list))\n",
    "df_train['Title']= df_train.apply(replace_titles, axis=1)\n",
    "df_train.head()"
   ]
  },
  {
   "cell_type": "code",
   "execution_count": 18,
   "id": "84c16b7e",
   "metadata": {
    "execution": {
     "iopub.execute_input": "2021-11-21T13:52:35.941375Z",
     "iopub.status.busy": "2021-11-21T13:52:35.940550Z",
     "iopub.status.idle": "2021-11-21T13:52:36.261080Z",
     "shell.execute_reply": "2021-11-21T13:52:36.260573Z",
     "shell.execute_reply.started": "2021-11-21T13:47:18.509755Z"
    },
    "papermill": {
     "duration": 0.368459,
     "end_time": "2021-11-21T13:52:36.261216",
     "exception": false,
     "start_time": "2021-11-21T13:52:35.892757",
     "status": "completed"
    },
    "tags": []
   },
   "outputs": [
    {
     "data": {
      "text/plain": [
       "<AxesSubplot:xlabel='Title', ylabel='Survived'>"
      ]
     },
     "execution_count": 18,
     "metadata": {},
     "output_type": "execute_result"
    },
    {
     "data": {
      "image/png": "[encoded data removed]",
      "text/plain": [
       "<Figure size 432x288 with 1 Axes>"
      ]
     },
     "metadata": {
      "needs_background": "light"
     },
     "output_type": "display_data"
    }
   ],
   "source": [
    "sns.barplot(x=\"Title\",y=\"Survived\",data=df_train)"
   ]
  },
  {
   "cell_type": "markdown",
   "id": "9d34ac14",
   "metadata": {
    "papermill": {
     "duration": 0.03966,
     "end_time": "2021-11-21T13:52:36.340733",
     "exception": false,
     "start_time": "2021-11-21T13:52:36.301073",
     "status": "completed"
    },
    "tags": []
   },
   "source": [
    "- Also shows female has higher survival rate than male."
   ]
  },
  {
   "cell_type": "markdown",
   "id": "153bed86",
   "metadata": {
    "papermill": {
     "duration": 0.04143,
     "end_time": "2021-11-21T13:52:36.421969",
     "exception": false,
     "start_time": "2021-11-21T13:52:36.380539",
     "status": "completed"
    },
    "tags": []
   },
   "source": [
    "### EDA: Family Size"
   ]
  },
  {
   "cell_type": "code",
   "execution_count": 19,
   "id": "daed11e2",
   "metadata": {
    "execution": {
     "iopub.execute_input": "2021-11-21T13:52:36.520909Z",
     "iopub.status.busy": "2021-11-21T13:52:36.520179Z",
     "iopub.status.idle": "2021-11-21T13:52:36.523058Z",
     "shell.execute_reply": "2021-11-21T13:52:36.523546Z",
     "shell.execute_reply.started": "2021-11-21T13:47:18.810360Z"
    },
    "papermill": {
     "duration": 0.061085,
     "end_time": "2021-11-21T13:52:36.523723",
     "exception": false,
     "start_time": "2021-11-21T13:52:36.462638",
     "status": "completed"
    },
    "tags": []
   },
   "outputs": [
    {
     "data": {
      "text/html": [
       "<div>\n",
       "<style scoped>\n",
       "    .dataframe tbody tr th:only-of-type {\n",
       "        vertical-align: middle;\n",
       "    }\n",
       "\n",
       "    .dataframe tbody tr th {\n",
       "        vertical-align: top;\n",
       "    }\n",
       "\n",
       "    .dataframe thead th {\n",
       "        text-align: right;\n",
       "    }\n",
       "</style>\n",
       "<table border=\"1\" class=\"dataframe\">\n",
       "  <thead>\n",
       "    <tr style=\"text-align: right;\">\n",
       "      <th></th>\n",
       "      <th>PassengerId</th>\n",
       "      <th>Survived</th>\n",
       "      <th>Pclass</th>\n",
       "      <th>Name</th>\n",
       "      <th>Sex</th>\n",
       "      <th>Age</th>\n",
       "      <th>SibSp</th>\n",
       "      <th>Parch</th>\n",
       "      <th>Ticket</th>\n",
       "      <th>Fare</th>\n",
       "      <th>Cabin</th>\n",
       "      <th>Embarked</th>\n",
       "      <th>ifCabin</th>\n",
       "      <th>Title</th>\n",
       "      <th>Family_Size</th>\n",
       "    </tr>\n",
       "  </thead>\n",
       "  <tbody>\n",
       "    <tr>\n",
       "      <th>0</th>\n",
       "      <td>1</td>\n",
       "      <td>0</td>\n",
       "      <td>3</td>\n",
       "      <td>Braund, Mr. Owen Harris</td>\n",
       "      <td>male</td>\n",
       "      <td>22.0</td>\n",
       "      <td>1</td>\n",
       "      <td>0</td>\n",
       "      <td>A/5 21171</td>\n",
       "      <td>7.2500</td>\n",
       "      <td>NaN</td>\n",
       "      <td>S</td>\n",
       "      <td>0</td>\n",
       "      <td>Mr</td>\n",
       "      <td>1</td>\n",
       "    </tr>\n",
       "    <tr>\n",
       "      <th>1</th>\n",
       "      <td>2</td>\n",
       "      <td>1</td>\n",
       "      <td>1</td>\n",
       "      <td>Cumings, Mrs. John Bradley (Florence Briggs Th...</td>\n",
       "      <td>female</td>\n",
       "      <td>38.0</td>\n",
       "      <td>1</td>\n",
       "      <td>0</td>\n",
       "      <td>PC 17599</td>\n",
       "      <td>71.2833</td>\n",
       "      <td>C85</td>\n",
       "      <td>C</td>\n",
       "      <td>1</td>\n",
       "      <td>Mrs</td>\n",
       "      <td>1</td>\n",
       "    </tr>\n",
       "    <tr>\n",
       "      <th>2</th>\n",
       "      <td>3</td>\n",
       "      <td>1</td>\n",
       "      <td>3</td>\n",
       "      <td>Heikkinen, Miss. Laina</td>\n",
       "      <td>female</td>\n",
       "      <td>26.0</td>\n",
       "      <td>0</td>\n",
       "      <td>0</td>\n",
       "      <td>STON/O2. 3101282</td>\n",
       "      <td>7.9250</td>\n",
       "      <td>NaN</td>\n",
       "      <td>S</td>\n",
       "      <td>0</td>\n",
       "      <td>Miss</td>\n",
       "      <td>0</td>\n",
       "    </tr>\n",
       "    <tr>\n",
       "      <th>3</th>\n",
       "      <td>4</td>\n",
       "      <td>1</td>\n",
       "      <td>1</td>\n",
       "      <td>Futrelle, Mrs. Jacques Heath (Lily May Peel)</td>\n",
       "      <td>female</td>\n",
       "      <td>35.0</td>\n",
       "      <td>1</td>\n",
       "      <td>0</td>\n",
       "      <td>113803</td>\n",
       "      <td>53.1000</td>\n",
       "      <td>C123</td>\n",
       "      <td>S</td>\n",
       "      <td>1</td>\n",
       "      <td>Mrs</td>\n",
       "      <td>1</td>\n",
       "    </tr>\n",
       "    <tr>\n",
       "      <th>4</th>\n",
       "      <td>5</td>\n",
       "      <td>0</td>\n",
       "      <td>3</td>\n",
       "      <td>Allen, Mr. William Henry</td>\n",
       "      <td>male</td>\n",
       "      <td>35.0</td>\n",
       "      <td>0</td>\n",
       "      <td>0</td>\n",
       "      <td>373450</td>\n",
       "      <td>8.0500</td>\n",
       "      <td>NaN</td>\n",
       "      <td>S</td>\n",
       "      <td>0</td>\n",
       "      <td>Mr</td>\n",
       "      <td>0</td>\n",
       "    </tr>\n",
       "  </tbody>\n",
       "</table>\n",
       "</div>"
      ],
      "text/plain": [
       "   PassengerId  Survived  Pclass  \\\n",
       "0            1         0       3   \n",
       "1            2         1       1   \n",
       "2            3         1       3   \n",
       "3            4         1       1   \n",
       "4            5         0       3   \n",
       "\n",
       "                                                Name     Sex   Age  SibSp  \\\n",
       "0                            Braund, Mr. Owen Harris    male  22.0      1   \n",
       "1  Cumings, Mrs. John Bradley (Florence Briggs Th...  female  38.0      1   \n",
       "2                             Heikkinen, Miss. Laina  female  26.0      0   \n",
       "3       Futrelle, Mrs. Jacques Heath (Lily May Peel)  female  35.0      1   \n",
       "4                           Allen, Mr. William Henry    male  35.0      0   \n",
       "\n",
       "   Parch            Ticket     Fare Cabin Embarked  ifCabin Title  Family_Size  \n",
       "0      0         A/5 21171   7.2500   NaN        S        0    Mr            1  \n",
       "1      0          PC 17599  71.2833   C85        C        1   Mrs            1  \n",
       "2      0  STON/O2. 3101282   7.9250   NaN        S        0  Miss            0  \n",
       "3      0            113803  53.1000  C123        S        1   Mrs            1  \n",
       "4      0            373450   8.0500   NaN        S        0    Mr            0  "
      ]
     },
     "execution_count": 19,
     "metadata": {},
     "output_type": "execute_result"
    }
   ],
   "source": [
    "df_train['Family_Size'] = df_train['SibSp'] + df_train['Parch']\n",
    "df_train.head()"
   ]
  },
  {
   "cell_type": "code",
   "execution_count": 20,
   "id": "46170b41",
   "metadata": {
    "execution": {
     "iopub.execute_input": "2021-11-21T13:52:36.627561Z",
     "iopub.status.busy": "2021-11-21T13:52:36.626760Z",
     "iopub.status.idle": "2021-11-21T13:52:37.649275Z",
     "shell.execute_reply": "2021-11-21T13:52:37.649795Z",
     "shell.execute_reply.started": "2021-11-21T13:47:18.831452Z"
    },
    "papermill": {
     "duration": 1.084983,
     "end_time": "2021-11-21T13:52:37.649986",
     "exception": false,
     "start_time": "2021-11-21T13:52:36.565003",
     "status": "completed"
    },
    "tags": []
   },
   "outputs": [
    {
     "data": {
      "text/plain": [
       "<AxesSubplot:xlabel='Family_Size', ylabel='Survived'>"
      ]
     },
     "execution_count": 20,
     "metadata": {},
     "output_type": "execute_result"
    },
    {
     "data": {
      "image/png": "[encoded data removed]",
      "text/plain": [
       "<Figure size 1728x216 with 3 Axes>"
      ]
     },
     "metadata": {
      "needs_background": "light"
     },
     "output_type": "display_data"
    }
   ],
   "source": [
    "fig, axarr = plt.subplots(1, 3, figsize=(24, 3))\n",
    "sns.barplot(x='SibSp',y=\"Survived\",data=df_train, ax = axarr[0])\n",
    "sns.barplot(x='Parch',y=\"Survived\",data=df_train, ax = axarr[1])\n",
    "sns.barplot(x=\"Family_Size\",y=\"Survived\", data=df_train, ax = axarr[2])"
   ]
  },
  {
   "cell_type": "markdown",
   "id": "3c75a504",
   "metadata": {
    "papermill": {
     "duration": 0.040919,
     "end_time": "2021-11-21T13:52:37.732089",
     "exception": false,
     "start_time": "2021-11-21T13:52:37.691170",
     "status": "completed"
    },
    "tags": []
   },
   "source": [
    "- Family size between 1~3 has higher survival rate."
   ]
  },
  {
   "cell_type": "markdown",
   "id": "0c5b11a2",
   "metadata": {
    "papermill": {
     "duration": 0.041351,
     "end_time": "2021-11-21T13:52:37.814758",
     "exception": false,
     "start_time": "2021-11-21T13:52:37.773407",
     "status": "completed"
    },
    "tags": []
   },
   "source": [
    "### EDA: Age"
   ]
  },
  {
   "cell_type": "code",
   "execution_count": 21,
   "id": "5e8c61fc",
   "metadata": {
    "execution": {
     "iopub.execute_input": "2021-11-21T13:52:37.902455Z",
     "iopub.status.busy": "2021-11-21T13:52:37.901727Z",
     "iopub.status.idle": "2021-11-21T13:52:37.907532Z",
     "shell.execute_reply": "2021-11-21T13:52:37.908338Z",
     "shell.execute_reply.started": "2021-11-21T13:47:19.824588Z"
    },
    "papermill": {
     "duration": 0.052543,
     "end_time": "2021-11-21T13:52:37.908594",
     "exception": false,
     "start_time": "2021-11-21T13:52:37.856051",
     "status": "completed"
    },
    "tags": []
   },
   "outputs": [
    {
     "name": "stdout",
     "output_type": "stream",
     "text": [
      "The max age is  80.0  and the min age is  0.42\n"
     ]
    }
   ],
   "source": [
    "print ('The max age is ',max(df_train.Age.dropna()), ' and the min age is ', min(df_train.Age.dropna()))"
   ]
  },
  {
   "cell_type": "code",
   "execution_count": 22,
   "id": "91ac6ce8",
   "metadata": {
    "execution": {
     "iopub.execute_input": "2021-11-21T13:52:38.000075Z",
     "iopub.status.busy": "2021-11-21T13:52:37.997314Z",
     "iopub.status.idle": "2021-11-21T13:52:38.026371Z",
     "shell.execute_reply": "2021-11-21T13:52:38.025784Z",
     "shell.execute_reply.started": "2021-11-21T13:47:19.833687Z"
    },
    "papermill": {
     "duration": 0.073359,
     "end_time": "2021-11-21T13:52:38.026545",
     "exception": false,
     "start_time": "2021-11-21T13:52:37.953186",
     "status": "completed"
    },
    "tags": []
   },
   "outputs": [
    {
     "data": {
      "text/html": [
       "<div>\n",
       "<style scoped>\n",
       "    .dataframe tbody tr th:only-of-type {\n",
       "        vertical-align: middle;\n",
       "    }\n",
       "\n",
       "    .dataframe tbody tr th {\n",
       "        vertical-align: top;\n",
       "    }\n",
       "\n",
       "    .dataframe thead th {\n",
       "        text-align: right;\n",
       "    }\n",
       "</style>\n",
       "<table border=\"1\" class=\"dataframe\">\n",
       "  <thead>\n",
       "    <tr style=\"text-align: right;\">\n",
       "      <th></th>\n",
       "      <th>PassengerId</th>\n",
       "      <th>Survived</th>\n",
       "      <th>Pclass</th>\n",
       "      <th>Name</th>\n",
       "      <th>Sex</th>\n",
       "      <th>Age</th>\n",
       "      <th>SibSp</th>\n",
       "      <th>Parch</th>\n",
       "      <th>Ticket</th>\n",
       "      <th>Fare</th>\n",
       "      <th>Cabin</th>\n",
       "      <th>Embarked</th>\n",
       "      <th>ifCabin</th>\n",
       "      <th>Title</th>\n",
       "      <th>Family_Size</th>\n",
       "      <th>Age_Group</th>\n",
       "    </tr>\n",
       "  </thead>\n",
       "  <tbody>\n",
       "    <tr>\n",
       "      <th>0</th>\n",
       "      <td>1</td>\n",
       "      <td>0</td>\n",
       "      <td>3</td>\n",
       "      <td>Braund, Mr. Owen Harris</td>\n",
       "      <td>male</td>\n",
       "      <td>22.0</td>\n",
       "      <td>1</td>\n",
       "      <td>0</td>\n",
       "      <td>A/5 21171</td>\n",
       "      <td>7.2500</td>\n",
       "      <td>NaN</td>\n",
       "      <td>S</td>\n",
       "      <td>0</td>\n",
       "      <td>Mr</td>\n",
       "      <td>1</td>\n",
       "      <td>(20.0, 24.0]</td>\n",
       "    </tr>\n",
       "    <tr>\n",
       "      <th>1</th>\n",
       "      <td>2</td>\n",
       "      <td>1</td>\n",
       "      <td>1</td>\n",
       "      <td>Cumings, Mrs. John Bradley (Florence Briggs Th...</td>\n",
       "      <td>female</td>\n",
       "      <td>38.0</td>\n",
       "      <td>1</td>\n",
       "      <td>0</td>\n",
       "      <td>PC 17599</td>\n",
       "      <td>71.2833</td>\n",
       "      <td>C85</td>\n",
       "      <td>C</td>\n",
       "      <td>1</td>\n",
       "      <td>Mrs</td>\n",
       "      <td>1</td>\n",
       "      <td>(36.0, 40.0]</td>\n",
       "    </tr>\n",
       "    <tr>\n",
       "      <th>2</th>\n",
       "      <td>3</td>\n",
       "      <td>1</td>\n",
       "      <td>3</td>\n",
       "      <td>Heikkinen, Miss. Laina</td>\n",
       "      <td>female</td>\n",
       "      <td>26.0</td>\n",
       "      <td>0</td>\n",
       "      <td>0</td>\n",
       "      <td>STON/O2. 3101282</td>\n",
       "      <td>7.9250</td>\n",
       "      <td>NaN</td>\n",
       "      <td>S</td>\n",
       "      <td>0</td>\n",
       "      <td>Miss</td>\n",
       "      <td>0</td>\n",
       "      <td>(24.0, 28.0]</td>\n",
       "    </tr>\n",
       "    <tr>\n",
       "      <th>3</th>\n",
       "      <td>4</td>\n",
       "      <td>1</td>\n",
       "      <td>1</td>\n",
       "      <td>Futrelle, Mrs. Jacques Heath (Lily May Peel)</td>\n",
       "      <td>female</td>\n",
       "      <td>35.0</td>\n",
       "      <td>1</td>\n",
       "      <td>0</td>\n",
       "      <td>113803</td>\n",
       "      <td>53.1000</td>\n",
       "      <td>C123</td>\n",
       "      <td>S</td>\n",
       "      <td>1</td>\n",
       "      <td>Mrs</td>\n",
       "      <td>1</td>\n",
       "      <td>(32.0, 36.0]</td>\n",
       "    </tr>\n",
       "    <tr>\n",
       "      <th>4</th>\n",
       "      <td>5</td>\n",
       "      <td>0</td>\n",
       "      <td>3</td>\n",
       "      <td>Allen, Mr. William Henry</td>\n",
       "      <td>male</td>\n",
       "      <td>35.0</td>\n",
       "      <td>0</td>\n",
       "      <td>0</td>\n",
       "      <td>373450</td>\n",
       "      <td>8.0500</td>\n",
       "      <td>NaN</td>\n",
       "      <td>S</td>\n",
       "      <td>0</td>\n",
       "      <td>Mr</td>\n",
       "      <td>0</td>\n",
       "      <td>(32.0, 36.0]</td>\n",
       "    </tr>\n",
       "  </tbody>\n",
       "</table>\n",
       "</div>"
      ],
      "text/plain": [
       "   PassengerId  Survived  Pclass  \\\n",
       "0            1         0       3   \n",
       "1            2         1       1   \n",
       "2            3         1       3   \n",
       "3            4         1       1   \n",
       "4            5         0       3   \n",
       "\n",
       "                                                Name     Sex   Age  SibSp  \\\n",
       "0                            Braund, Mr. Owen Harris    male  22.0      1   \n",
       "1  Cumings, Mrs. John Bradley (Florence Briggs Th...  female  38.0      1   \n",
       "2                             Heikkinen, Miss. Laina  female  26.0      0   \n",
       "3       Futrelle, Mrs. Jacques Heath (Lily May Peel)  female  35.0      1   \n",
       "4                           Allen, Mr. William Henry    male  35.0      0   \n",
       "\n",
       "   Parch            Ticket     Fare Cabin Embarked  ifCabin Title  \\\n",
       "0      0         A/5 21171   7.2500   NaN        S        0    Mr   \n",
       "1      0          PC 17599  71.2833   C85        C        1   Mrs   \n",
       "2      0  STON/O2. 3101282   7.9250   NaN        S        0  Miss   \n",
       "3      0            113803  53.1000  C123        S        1   Mrs   \n",
       "4      0            373450   8.0500   NaN        S        0    Mr   \n",
       "\n",
       "   Family_Size     Age_Group  \n",
       "0            1  (20.0, 24.0]  \n",
       "1            1  (36.0, 40.0]  \n",
       "2            0  (24.0, 28.0]  \n",
       "3            1  (32.0, 36.0]  \n",
       "4            0  (32.0, 36.0]  "
      ]
     },
     "execution_count": 22,
     "metadata": {},
     "output_type": "execute_result"
    }
   ],
   "source": [
    "df_train['Age_Group'] = pd.cut(df_train['Age'].dropna(), np.linspace(0, 80, 21), include_lowest=True)\n",
    "df_train.head()"
   ]
  },
  {
   "cell_type": "code",
   "execution_count": 23,
   "id": "fc90bae3",
   "metadata": {
    "execution": {
     "iopub.execute_input": "2021-11-21T13:52:38.125459Z",
     "iopub.status.busy": "2021-11-21T13:52:38.124774Z",
     "iopub.status.idle": "2021-11-21T13:52:38.887856Z",
     "shell.execute_reply": "2021-11-21T13:52:38.888407Z",
     "shell.execute_reply.started": "2021-11-21T13:47:19.865128Z"
    },
    "papermill": {
     "duration": 0.818036,
     "end_time": "2021-11-21T13:52:38.888589",
     "exception": false,
     "start_time": "2021-11-21T13:52:38.070553",
     "status": "completed"
    },
    "tags": []
   },
   "outputs": [
    {
     "data": {
      "text/plain": [
       "<AxesSubplot:xlabel='Age_Group', ylabel='Survived'>"
      ]
     },
     "execution_count": 23,
     "metadata": {},
     "output_type": "execute_result"
    },
    {
     "data": {
      "image/png": "[encoded data removed]",
      "text/plain": [
       "<Figure size 1728x216 with 1 Axes>"
      ]
     },
     "metadata": {
      "needs_background": "light"
     },
     "output_type": "display_data"
    }
   ],
   "source": [
    "fig, axarr = plt.subplots(figsize=(24, 3))\n",
    "sns.barplot(x=\"Age_Group\",y=\"Survived\",data=df_train)"
   ]
  },
  {
   "cell_type": "code",
   "execution_count": 24,
   "id": "029e83fc",
   "metadata": {
    "execution": {
     "iopub.execute_input": "2021-11-21T13:52:39.011909Z",
     "iopub.status.busy": "2021-11-21T13:52:38.987211Z",
     "iopub.status.idle": "2021-11-21T13:52:39.960179Z",
     "shell.execute_reply": "2021-11-21T13:52:39.959599Z",
     "shell.execute_reply.started": "2021-11-21T13:47:20.623973Z"
    },
    "papermill": {
     "duration": 1.027528,
     "end_time": "2021-11-21T13:52:39.960358",
     "exception": false,
     "start_time": "2021-11-21T13:52:38.932830",
     "status": "completed"
    },
    "tags": []
   },
   "outputs": [
    {
     "name": "stderr",
     "output_type": "stream",
     "text": [
      "/opt/conda/lib/python3.7/site-packages/seaborn/distributions.py:2619: FutureWarning: `distplot` is a deprecated function and will be removed in a future version. Please adapt your code to use either `displot` (a figure-level function with similar flexibility) or `histplot` (an axes-level function for histograms).\n",
      "  warnings.warn(msg, FutureWarning)\n"
     ]
    },
    {
     "data": {
      "image/png": "[encoded data removed]",
      "text/plain": [
       "<Figure size 1152x216 with 2 Axes>"
      ]
     },
     "metadata": {
      "needs_background": "light"
     },
     "output_type": "display_data"
    }
   ],
   "source": [
    "fig, axarr = plt.subplots(1, 2,figsize=(16, 3))\n",
    "women = df_train[df_train['Sex'] == 'female']\n",
    "men = df_train[df_train['Sex'] == 'male']\n",
    "ax = sns.distplot(women[women['Survived']==1].Age.dropna(), bins=30, label = 'survived', ax = axarr[0], kde =False, color=\"green\")\n",
    "ax = sns.distplot(women[women['Survived']==0].Age.dropna(), bins=30, label = 'not survived', ax = axarr[0], kde =False, color=\"red\")\n",
    "ax.legend()\n",
    "ax.set_title('Female')\n",
    "ax = sns.distplot(men[men['Survived']==1].Age.dropna(), bins=30, label = 'survived', ax = axarr[1], kde = False, color=\"green\")\n",
    "ax = sns.distplot(men[men['Survived']==0].Age.dropna(), bins=30, label = 'not survived', ax = axarr[1], kde = False, color=\"red\")\n",
    "ax.legend()\n",
    "title_male = ax.set_title('Male')"
   ]
  },
  {
   "cell_type": "markdown",
   "id": "7f1b4950",
   "metadata": {
    "papermill": {
     "duration": 0.066186,
     "end_time": "2021-11-21T13:52:40.085185",
     "exception": false,
     "start_time": "2021-11-21T13:52:40.018999",
     "status": "completed"
    },
    "tags": []
   },
   "source": [
    "- Age only does not directly show relation with with survival rate.\n",
    "- It seems that there exists large proportion of very young (age between 20-40) males and females survived."
   ]
  },
  {
   "cell_type": "markdown",
   "id": "23a97b6c",
   "metadata": {
    "papermill": {
     "duration": 0.046602,
     "end_time": "2021-11-21T13:52:40.185256",
     "exception": false,
     "start_time": "2021-11-21T13:52:40.138654",
     "status": "completed"
    },
    "tags": []
   },
   "source": [
    "### EDA: Fare per Person"
   ]
  },
  {
   "cell_type": "code",
   "execution_count": 25,
   "id": "04ff66cf",
   "metadata": {
    "execution": {
     "iopub.execute_input": "2021-11-21T13:52:40.283748Z",
     "iopub.status.busy": "2021-11-21T13:52:40.280877Z",
     "iopub.status.idle": "2021-11-21T13:52:40.308774Z",
     "shell.execute_reply": "2021-11-21T13:52:40.309262Z",
     "shell.execute_reply.started": "2021-11-21T13:47:21.307457Z"
    },
    "papermill": {
     "duration": 0.077345,
     "end_time": "2021-11-21T13:52:40.309490",
     "exception": false,
     "start_time": "2021-11-21T13:52:40.232145",
     "status": "completed"
    },
    "tags": []
   },
   "outputs": [
    {
     "name": "stdout",
     "output_type": "stream",
     "text": [
      "The max Fare is  512.3292  and the min Fare is  0.0\n",
      "The max Fare_Per_Person is  512.3292  and the min Fare_Per_Person is  0.0\n"
     ]
    },
    {
     "data": {
      "text/html": [
       "<div>\n",
       "<style scoped>\n",
       "    .dataframe tbody tr th:only-of-type {\n",
       "        vertical-align: middle;\n",
       "    }\n",
       "\n",
       "    .dataframe tbody tr th {\n",
       "        vertical-align: top;\n",
       "    }\n",
       "\n",
       "    .dataframe thead th {\n",
       "        text-align: right;\n",
       "    }\n",
       "</style>\n",
       "<table border=\"1\" class=\"dataframe\">\n",
       "  <thead>\n",
       "    <tr style=\"text-align: right;\">\n",
       "      <th></th>\n",
       "      <th>PassengerId</th>\n",
       "      <th>Survived</th>\n",
       "      <th>Pclass</th>\n",
       "      <th>Name</th>\n",
       "      <th>Sex</th>\n",
       "      <th>Age</th>\n",
       "      <th>SibSp</th>\n",
       "      <th>Parch</th>\n",
       "      <th>Ticket</th>\n",
       "      <th>Fare</th>\n",
       "      <th>Cabin</th>\n",
       "      <th>Embarked</th>\n",
       "      <th>ifCabin</th>\n",
       "      <th>Title</th>\n",
       "      <th>Family_Size</th>\n",
       "      <th>Age_Group</th>\n",
       "      <th>Fare_Per_Person</th>\n",
       "    </tr>\n",
       "  </thead>\n",
       "  <tbody>\n",
       "    <tr>\n",
       "      <th>0</th>\n",
       "      <td>1</td>\n",
       "      <td>0</td>\n",
       "      <td>3</td>\n",
       "      <td>Braund, Mr. Owen Harris</td>\n",
       "      <td>male</td>\n",
       "      <td>22.0</td>\n",
       "      <td>1</td>\n",
       "      <td>0</td>\n",
       "      <td>A/5 21171</td>\n",
       "      <td>7.2500</td>\n",
       "      <td>NaN</td>\n",
       "      <td>S</td>\n",
       "      <td>0</td>\n",
       "      <td>Mr</td>\n",
       "      <td>1</td>\n",
       "      <td>(20.0, 24.0]</td>\n",
       "      <td>3.62500</td>\n",
       "    </tr>\n",
       "    <tr>\n",
       "      <th>1</th>\n",
       "      <td>2</td>\n",
       "      <td>1</td>\n",
       "      <td>1</td>\n",
       "      <td>Cumings, Mrs. John Bradley (Florence Briggs Th...</td>\n",
       "      <td>female</td>\n",
       "      <td>38.0</td>\n",
       "      <td>1</td>\n",
       "      <td>0</td>\n",
       "      <td>PC 17599</td>\n",
       "      <td>71.2833</td>\n",
       "      <td>C85</td>\n",
       "      <td>C</td>\n",
       "      <td>1</td>\n",
       "      <td>Mrs</td>\n",
       "      <td>1</td>\n",
       "      <td>(36.0, 40.0]</td>\n",
       "      <td>35.64165</td>\n",
       "    </tr>\n",
       "    <tr>\n",
       "      <th>2</th>\n",
       "      <td>3</td>\n",
       "      <td>1</td>\n",
       "      <td>3</td>\n",
       "      <td>Heikkinen, Miss. Laina</td>\n",
       "      <td>female</td>\n",
       "      <td>26.0</td>\n",
       "      <td>0</td>\n",
       "      <td>0</td>\n",
       "      <td>STON/O2. 3101282</td>\n",
       "      <td>7.9250</td>\n",
       "      <td>NaN</td>\n",
       "      <td>S</td>\n",
       "      <td>0</td>\n",
       "      <td>Miss</td>\n",
       "      <td>0</td>\n",
       "      <td>(24.0, 28.0]</td>\n",
       "      <td>7.92500</td>\n",
       "    </tr>\n",
       "    <tr>\n",
       "      <th>3</th>\n",
       "      <td>4</td>\n",
       "      <td>1</td>\n",
       "      <td>1</td>\n",
       "      <td>Futrelle, Mrs. Jacques Heath (Lily May Peel)</td>\n",
       "      <td>female</td>\n",
       "      <td>35.0</td>\n",
       "      <td>1</td>\n",
       "      <td>0</td>\n",
       "      <td>113803</td>\n",
       "      <td>53.1000</td>\n",
       "      <td>C123</td>\n",
       "      <td>S</td>\n",
       "      <td>1</td>\n",
       "      <td>Mrs</td>\n",
       "      <td>1</td>\n",
       "      <td>(32.0, 36.0]</td>\n",
       "      <td>26.55000</td>\n",
       "    </tr>\n",
       "    <tr>\n",
       "      <th>4</th>\n",
       "      <td>5</td>\n",
       "      <td>0</td>\n",
       "      <td>3</td>\n",
       "      <td>Allen, Mr. William Henry</td>\n",
       "      <td>male</td>\n",
       "      <td>35.0</td>\n",
       "      <td>0</td>\n",
       "      <td>0</td>\n",
       "      <td>373450</td>\n",
       "      <td>8.0500</td>\n",
       "      <td>NaN</td>\n",
       "      <td>S</td>\n",
       "      <td>0</td>\n",
       "      <td>Mr</td>\n",
       "      <td>0</td>\n",
       "      <td>(32.0, 36.0]</td>\n",
       "      <td>8.05000</td>\n",
       "    </tr>\n",
       "  </tbody>\n",
       "</table>\n",
       "</div>"
      ],
      "text/plain": [
       "   PassengerId  Survived  Pclass  \\\n",
       "0            1         0       3   \n",
       "1            2         1       1   \n",
       "2            3         1       3   \n",
       "3            4         1       1   \n",
       "4            5         0       3   \n",
       "\n",
       "                                                Name     Sex   Age  SibSp  \\\n",
       "0                            Braund, Mr. Owen Harris    male  22.0      1   \n",
       "1  Cumings, Mrs. John Bradley (Florence Briggs Th...  female  38.0      1   \n",
       "2                             Heikkinen, Miss. Laina  female  26.0      0   \n",
       "3       Futrelle, Mrs. Jacques Heath (Lily May Peel)  female  35.0      1   \n",
       "4                           Allen, Mr. William Henry    male  35.0      0   \n",
       "\n",
       "   Parch            Ticket     Fare Cabin Embarked  ifCabin Title  \\\n",
       "0      0         A/5 21171   7.2500   NaN        S        0    Mr   \n",
       "1      0          PC 17599  71.2833   C85        C        1   Mrs   \n",
       "2      0  STON/O2. 3101282   7.9250   NaN        S        0  Miss   \n",
       "3      0            113803  53.1000  C123        S        1   Mrs   \n",
       "4      0            373450   8.0500   NaN        S        0    Mr   \n",
       "\n",
       "   Family_Size     Age_Group  Fare_Per_Person  \n",
       "0            1  (20.0, 24.0]          3.62500  \n",
       "1            1  (36.0, 40.0]         35.64165  \n",
       "2            0  (24.0, 28.0]          7.92500  \n",
       "3            1  (32.0, 36.0]         26.55000  \n",
       "4            0  (32.0, 36.0]          8.05000  "
      ]
     },
     "execution_count": 25,
     "metadata": {},
     "output_type": "execute_result"
    }
   ],
   "source": [
    "df_train['Fare_Per_Person'] = df_train['Fare'] / (df_train['Family_Size'] + 1)\n",
    "print ('The max Fare is ',max(df_train.Fare), ' and the min Fare is ', min(df_train.Fare))\n",
    "print ('The max Fare_Per_Person is ',max(df_train.Fare_Per_Person), ' and the min Fare_Per_Person is ', min(df_train.Fare_Per_Person))\n",
    "df_train.head()"
   ]
  },
  {
   "cell_type": "code",
   "execution_count": 26,
   "id": "053d35c6",
   "metadata": {
    "execution": {
     "iopub.execute_input": "2021-11-21T13:52:40.407087Z",
     "iopub.status.busy": "2021-11-21T13:52:40.406058Z",
     "iopub.status.idle": "2021-11-21T13:52:43.673336Z",
     "shell.execute_reply": "2021-11-21T13:52:43.673834Z",
     "shell.execute_reply.started": "2021-11-21T13:47:21.336186Z"
    },
    "papermill": {
     "duration": 3.317392,
     "end_time": "2021-11-21T13:52:43.674009",
     "exception": false,
     "start_time": "2021-11-21T13:52:40.356617",
     "status": "completed"
    },
    "tags": []
   },
   "outputs": [
    {
     "data": {
      "text/plain": [
       "<AxesSubplot:xlabel='FarePP_Group', ylabel='Survived'>"
      ]
     },
     "execution_count": 26,
     "metadata": {},
     "output_type": "execute_result"
    },
    {
     "data": {
      "image/png": "[encoded data removed]",
      "text/plain": [
       "<Figure size 1728x432 with 2 Axes>"
      ]
     },
     "metadata": {
      "needs_background": "light"
     },
     "output_type": "display_data"
    }
   ],
   "source": [
    "df_train['Fare_Group'] = pd.cut(df_train['Fare'].dropna(), np.linspace(0, 550, 56), include_lowest=True)\n",
    "df_train['FarePP_Group'] = pd.cut(df_train['Fare_Per_Person'].dropna(), np.linspace(0, 550, 56), include_lowest=True)\n",
    "fig, axarr = plt.subplots(2, figsize=(24, 6))\n",
    "sns.barplot(x = 'Fare_Group',y = \"Survived\", data = df_train, ax = axarr[0])\n",
    "sns.barplot(x = 'FarePP_Group',y = \"Survived\", data = df_train, ax = axarr[1])"
   ]
  },
  {
   "cell_type": "markdown",
   "id": "a6dd5439",
   "metadata": {
    "papermill": {
     "duration": 0.048343,
     "end_time": "2021-11-21T13:52:43.772581",
     "exception": false,
     "start_time": "2021-11-21T13:52:43.724238",
     "status": "completed"
    },
    "tags": []
   },
   "source": [
    "- Fare does not vary much with family size."
   ]
  },
  {
   "cell_type": "markdown",
   "id": "220c6bfd",
   "metadata": {
    "papermill": {
     "duration": 0.047546,
     "end_time": "2021-11-21T13:52:43.866654",
     "exception": false,
     "start_time": "2021-11-21T13:52:43.819108",
     "status": "completed"
    },
    "tags": []
   },
   "source": [
    "## Feature Engineering"
   ]
  },
  {
   "cell_type": "code",
   "execution_count": 27,
   "id": "e53b3408",
   "metadata": {
    "execution": {
     "iopub.execute_input": "2021-11-21T13:52:43.971249Z",
     "iopub.status.busy": "2021-11-21T13:52:43.970454Z",
     "iopub.status.idle": "2021-11-21T13:52:44.001190Z",
     "shell.execute_reply": "2021-11-21T13:52:44.001661Z",
     "shell.execute_reply.started": "2021-11-21T13:47:24.510402Z"
    },
    "papermill": {
     "duration": 0.086587,
     "end_time": "2021-11-21T13:52:44.001841",
     "exception": false,
     "start_time": "2021-11-21T13:52:43.915254",
     "status": "completed"
    },
    "tags": []
   },
   "outputs": [
    {
     "data": {
      "text/html": [
       "<div>\n",
       "<style scoped>\n",
       "    .dataframe tbody tr th:only-of-type {\n",
       "        vertical-align: middle;\n",
       "    }\n",
       "\n",
       "    .dataframe tbody tr th {\n",
       "        vertical-align: top;\n",
       "    }\n",
       "\n",
       "    .dataframe thead th {\n",
       "        text-align: right;\n",
       "    }\n",
       "</style>\n",
       "<table border=\"1\" class=\"dataframe\">\n",
       "  <thead>\n",
       "    <tr style=\"text-align: right;\">\n",
       "      <th></th>\n",
       "      <th>Survived</th>\n",
       "      <th>Pclass</th>\n",
       "      <th>ifCabin</th>\n",
       "      <th>Gender</th>\n",
       "      <th>Family_Size</th>\n",
       "    </tr>\n",
       "  </thead>\n",
       "  <tbody>\n",
       "    <tr>\n",
       "      <th>0</th>\n",
       "      <td>0</td>\n",
       "      <td>3</td>\n",
       "      <td>0</td>\n",
       "      <td>1</td>\n",
       "      <td>1</td>\n",
       "    </tr>\n",
       "    <tr>\n",
       "      <th>1</th>\n",
       "      <td>1</td>\n",
       "      <td>1</td>\n",
       "      <td>1</td>\n",
       "      <td>0</td>\n",
       "      <td>1</td>\n",
       "    </tr>\n",
       "    <tr>\n",
       "      <th>2</th>\n",
       "      <td>1</td>\n",
       "      <td>3</td>\n",
       "      <td>0</td>\n",
       "      <td>0</td>\n",
       "      <td>0</td>\n",
       "    </tr>\n",
       "    <tr>\n",
       "      <th>3</th>\n",
       "      <td>1</td>\n",
       "      <td>1</td>\n",
       "      <td>1</td>\n",
       "      <td>0</td>\n",
       "      <td>1</td>\n",
       "    </tr>\n",
       "    <tr>\n",
       "      <th>4</th>\n",
       "      <td>0</td>\n",
       "      <td>3</td>\n",
       "      <td>0</td>\n",
       "      <td>1</td>\n",
       "      <td>0</td>\n",
       "    </tr>\n",
       "  </tbody>\n",
       "</table>\n",
       "</div>"
      ],
      "text/plain": [
       "   Survived  Pclass  ifCabin  Gender  Family_Size\n",
       "0         0       3        0       1            1\n",
       "1         1       1        1       0            1\n",
       "2         1       3        0       0            0\n",
       "3         1       1        1       0            1\n",
       "4         0       3        0       1            0"
      ]
     },
     "execution_count": 27,
     "metadata": {},
     "output_type": "execute_result"
    }
   ],
   "source": [
    "df_train = pd.read_csv(\"/kaggle/input/titanic/train.csv\")\n",
    "\n",
    "df_train['ifCabin'] = df_train['Cabin'].isnull().replace([True, False],[0,1])\n",
    "df_test['ifCabin'] = df_test['Cabin'].isnull().replace([True, False],[0,1])\n",
    "\n",
    "df_train['Gender'] = pd.get_dummies(df_train['Sex'], drop_first=True)\n",
    "df_test['Gender'] = pd.get_dummies(df_test['Sex'], drop_first=True)\n",
    "\n",
    "df_train['Family_Size'] = df_train['SibSp'] + df_train['Parch']\n",
    "df_test['Family_Size'] = df_test['SibSp'] + df_test['Parch']\n",
    "\n",
    "df_train.drop(columns=['Sex', 'Embarked', 'Fare', 'SibSp', 'Parch', 'Name', 'PassengerId', 'Cabin', 'Ticket', 'Age'], inplace=True)\n",
    "df_test.drop(columns=['Sex', 'Embarked', 'Fare', 'SibSp', 'Parch', 'Name', 'PassengerId', 'Cabin', 'Ticket', 'Age'], inplace=True)\n",
    "\n",
    "df_train.head()"
   ]
  },
  {
   "cell_type": "markdown",
   "id": "fd786b60",
   "metadata": {
    "papermill": {
     "duration": 0.04771,
     "end_time": "2021-11-21T13:52:44.097682",
     "exception": false,
     "start_time": "2021-11-21T13:52:44.049972",
     "status": "completed"
    },
    "tags": []
   },
   "source": [
    "## Modeling"
   ]
  },
  {
   "cell_type": "code",
   "execution_count": 28,
   "id": "fc8899d6",
   "metadata": {
    "execution": {
     "iopub.execute_input": "2021-11-21T13:52:44.203494Z",
     "iopub.status.busy": "2021-11-21T13:52:44.202817Z",
     "iopub.status.idle": "2021-11-21T13:52:44.210238Z",
     "shell.execute_reply": "2021-11-21T13:52:44.209696Z",
     "shell.execute_reply.started": "2021-11-21T13:47:24.541870Z"
    },
    "papermill": {
     "duration": 0.064999,
     "end_time": "2021-11-21T13:52:44.210410",
     "exception": false,
     "start_time": "2021-11-21T13:52:44.145411",
     "status": "completed"
    },
    "tags": []
   },
   "outputs": [],
   "source": [
    "X_train = df_train.drop(columns='Survived')\n",
    "Y_train = df_train['Survived'].astype(int)\n",
    "X_test = df_test\n",
    "\n",
    "scaler = StandardScaler()\n",
    "X_train = scaler.fit_transform(X_train)\n",
    "X_test = scaler.transform(X_test)"
   ]
  },
  {
   "cell_type": "code",
   "execution_count": 29,
   "id": "dc1e20ad",
   "metadata": {
    "execution": {
     "iopub.execute_input": "2021-11-21T13:52:44.312011Z",
     "iopub.status.busy": "2021-11-21T13:52:44.310976Z",
     "iopub.status.idle": "2021-11-21T13:52:44.327474Z",
     "shell.execute_reply": "2021-11-21T13:52:44.328010Z",
     "shell.execute_reply.started": "2021-11-21T13:51:05.812580Z"
    },
    "papermill": {
     "duration": 0.068849,
     "end_time": "2021-11-21T13:52:44.328216",
     "exception": false,
     "start_time": "2021-11-21T13:52:44.259367",
     "status": "completed"
    },
    "tags": []
   },
   "outputs": [
    {
     "name": "stdout",
     "output_type": "stream",
     "text": [
      "Score given test set: 0.38\n"
     ]
    }
   ],
   "source": [
    "linear_regr = LinearRegression().fit(X_train, Y_train)\n",
    "print ('Score given test set: %.2f' % linear_regr.score(X_train, Y_train))\n",
    "pred = linear_regr.predict(X_test)"
   ]
  },
  {
   "cell_type": "code",
   "execution_count": 30,
   "id": "d0f943e8",
   "metadata": {
    "execution": {
     "iopub.execute_input": "2021-11-21T13:52:44.428142Z",
     "iopub.status.busy": "2021-11-21T13:52:44.427048Z",
     "iopub.status.idle": "2021-11-21T13:52:44.443622Z",
     "shell.execute_reply": "2021-11-21T13:52:44.443121Z",
     "shell.execute_reply.started": "2021-11-21T13:51:14.973965Z"
    },
    "papermill": {
     "duration": 0.06741,
     "end_time": "2021-11-21T13:52:44.443778",
     "exception": false,
     "start_time": "2021-11-21T13:52:44.376368",
     "status": "completed"
    },
    "tags": []
   },
   "outputs": [
    {
     "name": "stdout",
     "output_type": "stream",
     "text": [
      "Score given test set: 0.80\n"
     ]
    },
    {
     "data": {
      "text/plain": [
       "array([0, 1, 0, 0, 1, 0, 1, 0, 1, 0, 0, 0, 1, 0, 1, 1, 0, 0, 1, 1, 0, 0,\n",
       "       1, 0, 1, 0, 1, 0, 0, 0, 0, 0, 1, 1, 0, 0, 1, 1, 0, 0, 0, 0, 0, 1,\n",
       "       1, 0, 0, 0, 1, 1, 0, 0, 1, 1, 0, 0, 0, 0, 0, 1, 0, 0, 0, 1, 0, 1,\n",
       "       1, 0, 0, 1, 1, 0, 1, 0, 1, 0, 0, 1, 0, 1, 0, 0, 0, 0, 0, 0, 1, 1,\n",
       "       1, 0, 1, 0, 1, 0, 0, 0, 1, 0, 1, 0, 1, 0, 0, 0, 1, 0, 0, 0, 0, 0,\n",
       "       0, 1, 1, 1, 1, 0, 0, 1, 0, 1, 1, 0, 1, 0, 0, 1, 0, 1, 0, 0, 0, 0,\n",
       "       1, 0, 0, 0, 0, 0, 1, 0, 0, 1, 0, 0, 0, 0, 0, 0, 0, 0, 1, 0, 0, 1,\n",
       "       0, 0, 1, 1, 0, 1, 1, 0, 1, 0, 0, 1, 0, 0, 1, 1, 0, 0, 0, 0, 0, 1,\n",
       "       1, 0, 1, 1, 0, 0, 1, 0, 1, 0, 1, 0, 0, 0, 0, 0, 0, 0, 0, 0, 0, 1,\n",
       "       0, 1, 1, 0, 0, 1, 0, 0, 1, 0, 1, 0, 0, 0, 0, 1, 0, 0, 1, 0, 1, 0,\n",
       "       1, 0, 1, 0, 1, 1, 0, 1, 0, 0, 0, 1, 0, 0, 0, 0, 0, 0, 1, 1, 1, 1,\n",
       "       0, 0, 0, 0, 1, 0, 1, 1, 1, 0, 0, 0, 0, 0, 0, 0, 1, 0, 0, 0, 1, 1,\n",
       "       0, 0, 0, 0, 1, 0, 0, 0, 1, 1, 0, 1, 0, 0, 0, 0, 1, 0, 1, 1, 1, 0,\n",
       "       0, 0, 0, 0, 0, 1, 0, 0, 0, 0, 1, 0, 0, 0, 0, 0, 0, 0, 1, 1, 0, 0,\n",
       "       0, 1, 0, 0, 0, 1, 1, 1, 0, 0, 0, 0, 0, 0, 0, 0, 1, 0, 1, 0, 0, 0,\n",
       "       1, 0, 0, 1, 0, 0, 0, 0, 0, 0, 0, 0, 0, 1, 0, 1, 0, 1, 0, 1, 1, 0,\n",
       "       0, 0, 1, 0, 1, 0, 0, 1, 0, 1, 1, 0, 1, 0, 0, 1, 1, 0, 0, 1, 0, 0,\n",
       "       1, 1, 1, 0, 0, 0, 0, 0, 1, 1, 0, 1, 0, 0, 0, 0, 0, 1, 0, 0, 0, 1,\n",
       "       0, 1, 0, 0, 1, 0, 1, 0, 0, 0, 0, 0, 1, 1, 1, 1, 1, 0, 1, 0, 0, 0])"
      ]
     },
     "execution_count": 30,
     "metadata": {},
     "output_type": "execute_result"
    }
   ],
   "source": [
    "logistic_regr = LogisticRegression(random_state=0).fit(X_train, Y_train)\n",
    "print ('Score given test set: %.2f' % logistic_regr.score(X_train, Y_train))\n",
    "pred = logistic_regr.predict(X_test)\n",
    "pred"
   ]
  }
 ],
 "metadata": {
  "kernelspec": {
   "display_name": "Python 3",
   "language": "python",
   "name": "python3"
  },
  "language_info": {
   "codemirror_mode": {
    "name": "ipython",
    "version": 3
   },
   "file_extension": ".py",
   "mimetype": "text/x-python",
   "name": "python",
   "nbconvert_exporter": "python",
   "pygments_lexer": "ipython3",
   "version": "3.7.10"
  },
  "papermill": {
   "default_parameters": {},
   "duration": 60.405155,
   "end_time": "2021-11-21T13:52:45.806242",
   "environment_variables": {},
   "exception": null,
   "input_path": "__notebook__.ipynb",
   "output_path": "__notebook__.ipynb",
   "parameters": {},
   "start_time": "2021-11-21T13:51:45.401087",
   "version": "2.3.3"
  }
 },
 "nbformat": 4,
 "nbformat_minor": 5
}
